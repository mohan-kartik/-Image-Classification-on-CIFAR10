{
  "cells": [
    {
      "cell_type": "markdown",
      "metadata": {
        "id": "i6hkaMNRNj3O"
      },
      "source": [
        "# Programming assignment 1: Fully-Connected and Convolutional Neural Networks (100 points, excluding the extra credits)\n",
        "(adapted from the work done by Erik Learned-Miller, which was originally developed by Fei-Fei Li, Andrej Karpathy, and Justin Johnson)\n",
        "\n",
        "## Overview\n",
        "<font size='4'> In this assignment you will practice putting together implementations of a Fully-Connected Neural Network and a Convolution Neural Network (CNN) using a modular approach with `Python` and `Numpy`. For each layer we will implement a `forward` and a `backward` function. The `forward` function will receive inputs, weights, and other parameters and will return both an output and a `cache` object storing data needed for the backward pass. Fully-connected networks are a good testbed for experimentation because they are very computationally efficient, but in practice all state-of-the-art results use convolutional networks instead. We will also explore different update rules for optimization.\n",
        "\n",
        "## Submission format\n",
        "* <font size='4'>`<your_nu_username>_fc_cnn.ipynb` with your implementations and output.\n",
        "    \n",
        "## Note: \n",
        "* <font size='4'>Do not install any additional packages inside the conda environment. The TAs will use the same environment as defined in the config file we provide you, so anything that’s not in there by default will probably cause your code to break during grading. Failure to follow any of these instructions will lead to point deductions. \n",
        "* <font size='4'>We have some inline questions embedded in the Jupyter notebook files. Do not miss them."
      ]
    },
    {
      "cell_type": "markdown",
      "metadata": {
        "id": "22I4ZRWlNj3Z"
      },
      "source": [
        "### Setup"
      ]
    },
    {
      "cell_type": "code",
      "execution_count": 1,
      "metadata": {
        "id": "Ctnl6p1iNj3b"
      },
      "outputs": [],
      "source": [
        "from __future__ import print_function\n",
        "import random\n",
        "import numpy as np\n",
        "import time\n",
        "\n",
        "from utils.data_utils import load_CIFAR10, get_CIFAR10_data\n",
        "from utils.gradient_check import eval_numerical_gradient, eval_numerical_gradient_array\n",
        "from utils.solver import Solver\n",
        "import matplotlib.pyplot as plt\n",
        "\n",
        "%matplotlib inline\n",
        "plt.rcParams['figure.figsize'] = (10.0, 8.0) # set default size of plots\n",
        "plt.rcParams['image.interpolation'] = 'nearest'\n",
        "plt.rcParams['image.cmap'] = 'gray'\n",
        "\n",
        "# for auto-reloading extenrnal modules\n",
        "# see http://stackoverflow.com/questions/1907993/autoreload-of-modules-in-ipython\n",
        "%load_ext autoreload\n",
        "%autoreload 2\n",
        "\n",
        "def rel_error(x, y):\n",
        "    \"\"\" returns relative error \"\"\"\n",
        "    return np.max(np.abs(x - y) / (np.maximum(1e-8, np.abs(x) + np.abs(y))))"
      ]
    },
    {
      "cell_type": "code",
      "execution_count": 2,
      "metadata": {
        "id": "UXWFvbVuNj3d",
        "outputId": "c4b6a463-5c27-41dc-92e5-c1718e9df6c3",
        "colab": {
          "base_uri": "https://localhost:8080/"
        }
      },
      "outputs": [
        {
          "output_type": "stream",
          "name": "stdout",
          "text": [
            "/content/datasets\n",
            "  % Total    % Received % Xferd  Average Speed   Time    Time     Time  Current\n",
            "                                 Dload  Upload   Total   Spent    Left  Speed\n",
            "100  162M  100  162M    0     0  23.9M      0  0:00:06  0:00:06 --:--:-- 29.1M\n",
            "cifar-10-batches-py/\n",
            "cifar-10-batches-py/data_batch_4\n",
            "cifar-10-batches-py/readme.html\n",
            "cifar-10-batches-py/test_batch\n",
            "cifar-10-batches-py/data_batch_3\n",
            "cifar-10-batches-py/batches.meta\n",
            "cifar-10-batches-py/data_batch_2\n",
            "cifar-10-batches-py/data_batch_5\n",
            "cifar-10-batches-py/data_batch_1\n"
          ]
        }
      ],
      "source": [
        "# let's download the data\n",
        "%cd /content/datasets\n",
        "\n",
        "# 1 -- Linux \n",
        "# 2 -- MacOS\n",
        "# 3 -- Command Prompt on Windows\n",
        "# 4 -- manually downloading the data\n",
        "choice = 2\n",
        "\n",
        "\n",
        "if choice == 1:\n",
        "    # should work well on Linux and in Powershell on Windows\n",
        "    !wget http://www.cs.toronto.edu/~kriz/cifar-10-python.tar.gz\n",
        "elif choice == 2 or choice ==3:\n",
        "    # if wget is not available for you, try curl\n",
        "    # should work well on MacOS\n",
        "    !curl http://www.cs.toronto.edu/~kriz/cifar-10-python.tar.gz --output cifar-10-python.tar.gz\n",
        "else:\n",
        "    print('Please manually download the data from http://www.cs.toronto.edu/~kriz/cifar-10-python.tar.gz and put it under the datasets folder.')\n",
        "!tar -xzvf cifar-10-python.tar.gz\n",
        "\n",
        "if choice==3:\n",
        "    !del cifar-10-python.tar.gz\n",
        "else:\n",
        "    !rm cifar-10-python.tar.gz"
      ]
    },
    {
      "cell_type": "code",
      "execution_count": 3,
      "metadata": {
        "id": "dpeM3Sv0Nj3g",
        "outputId": "bfc8232b-16fe-4a3b-8c7e-a9e9bbdf596d",
        "colab": {
          "base_uri": "https://localhost:8080/"
        }
      },
      "outputs": [
        {
          "output_type": "stream",
          "name": "stdout",
          "text": [
            "Training data shape:  (50000, 32, 32, 3)\n",
            "Training labels shape:  (50000,)\n",
            "Test data shape:  (10000, 32, 32, 3)\n",
            "Test labels shape:  (10000,)\n"
          ]
        }
      ],
      "source": [
        "# Load the raw CIFAR-10 data.\n",
        "cifar10_dir = '../datasets/cifar-10-batches-py'\n",
        "\n",
        "# Cleaning up variables to prevent loading data multiple times (which may cause memory issue)\n",
        "try:\n",
        "    del X_train, y_train\n",
        "    del X_test, y_test\n",
        "    print('Clear previously loaded data.')\n",
        "except:\n",
        "    pass\n",
        "\n",
        "X_train, y_train, X_test, y_test = load_CIFAR10(cifar10_dir)\n",
        "\n",
        "# As a sanity check, we print out the size of the training and test data.\n",
        "print('Training data shape: ', X_train.shape)\n",
        "print('Training labels shape: ', y_train.shape)\n",
        "print('Test data shape: ', X_test.shape)\n",
        "print('Test labels shape: ', y_test.shape)"
      ]
    },
    {
      "cell_type": "code",
      "execution_count": 4,
      "metadata": {
        "id": "hdBg1M-rNj3h",
        "outputId": "408ec49f-d5d3-4265-9cfc-6acff733a6fe",
        "colab": {
          "base_uri": "https://localhost:8080/",
          "height": 264
        }
      },
      "outputs": [
        {
          "output_type": "display_data",
          "data": {
            "image/png": "[encoded data removed]",
            "text/plain": [
              "<Figure size 432x288 with 70 Axes>"
            ]
          },
          "metadata": {
            "needs_background": "light"
          }
        }
      ],
      "source": [
        "# Visualize some examples from the dataset.\n",
        "# We show a few examples of training images from each class.\n",
        "classes = ['plane', 'car', 'bird', 'cat', 'deer', 'dog', 'frog', 'horse', 'ship', 'truck']\n",
        "num_classes = len(classes)\n",
        "samples_per_class = 7\n",
        "for y, cls in enumerate(classes):\n",
        "    idxs = np.flatnonzero(y_train == y)\n",
        "    idxs = np.random.choice(idxs, samples_per_class, replace=False)\n",
        "    for i, idx in enumerate(idxs):\n",
        "        plt_idx = i * num_classes + y + 1\n",
        "        plt.subplot(samples_per_class, num_classes, plt_idx)\n",
        "        plt.imshow(X_train[idx].astype('uint8'))\n",
        "        plt.axis('off')\n",
        "        if i == 0:\n",
        "            plt.title(cls)\n",
        "plt.show()"
      ]
    },
    {
      "cell_type": "code",
      "execution_count": 5,
      "metadata": {
        "id": "Obbx9mquNj3j",
        "outputId": "27e5b3a8-0dc4-408c-8f25-b29c42b6a8d7",
        "colab": {
          "base_uri": "https://localhost:8080/"
        }
      },
      "outputs": [
        {
          "output_type": "stream",
          "name": "stdout",
          "text": [
            "('X_train: ', (49000, 3, 32, 32))\n",
            "('y_train: ', (49000,))\n",
            "('X_val: ', (1000, 3, 32, 32))\n",
            "('y_val: ', (1000,))\n",
            "('X_test: ', (1000, 3, 32, 32))\n",
            "('y_test: ', (1000,))\n"
          ]
        }
      ],
      "source": [
        "# Split the data into train, val, and test sets. \n",
        "# Check the get_CIFAR10_data function for more details\n",
        "data = get_CIFAR10_data(cifar10_dir)\n",
        "for k, v in list(data.items()):\n",
        "    print(('%s: ' % k, v.shape))"
      ]
    },
    {
      "cell_type": "markdown",
      "metadata": {
        "id": "gcEatCAWNj3k"
      },
      "source": [
        "# Programming assignments start here"
      ]
    },
    {
      "cell_type": "markdown",
      "metadata": {
        "id": "YVl-UfoRNj3l"
      },
      "source": [
        "## Part 1: Fully-connected neural networks (40 points)"
      ]
    },
    {
      "cell_type": "markdown",
      "metadata": {
        "id": "lB3EQ3PoNj3n"
      },
      "source": [
        "### Part 1.1: Linear and non-linear layers"
      ]
    },
    {
      "cell_type": "markdown",
      "metadata": {
        "id": "h_0v3AUINj3n"
      },
      "source": [
        "<font size='4' color='red'>**Task 1.1: Affine layer: foward pass (no for loops are allowed) (3 points).**"
      ]
    },
    {
      "cell_type": "code",
      "execution_count": 6,
      "metadata": {
        "id": "1-PVlegpNj3o"
      },
      "outputs": [],
      "source": [
        "def affine_forward(x, w, b):\n",
        "    \"\"\"\n",
        "    Computes the forward pass for an affine (fully-connected) layer.\n",
        "\n",
        "    The input x has shape (N, d_1, ..., d_k) and contains a minibatch of N\n",
        "    examples, where each example x[i] has shape (d_1, ..., d_k). We will\n",
        "    reshape each input into a vector of dimension D = d_1 * ... * d_k, and\n",
        "    then transform it to an output vector of dimension M.\n",
        "\n",
        "    Inputs:\n",
        "    - x: A numpy array containing input data, of shape (N, d_1, ..., d_k)\n",
        "    - w: A numpy array of weights, of shape (D, M)\n",
        "    - b: A numpy array of biases, of shape (M,)\n",
        "\n",
        "    Returns a tuple of:\n",
        "    - out: output, of shape (N, M)\n",
        "    - cache: (x, w, b)\n",
        "    \"\"\"\n",
        "    out = None\n",
        "    ###########################################################################\n",
        "    # TODO: Implement the affine forward pass. Store the result in out. You   #\n",
        "    # will need to reshape the input into rows.                               #\n",
        "    ###########################################################################\n",
        "    \n",
        "    x_reshape = x.reshape(x.shape[0],-1)\n",
        "    out = np.dot(x_reshape,w) + b\n",
        "\n",
        "    ###########################################################################\n",
        "    #                             END OF YOUR CODE                            #\n",
        "    ###########################################################################\n",
        "    cache = (x, w, b)\n",
        "    return out, cache"
      ]
    },
    {
      "cell_type": "code",
      "execution_count": 7,
      "metadata": {
        "id": "GdGlCR1oNj3p",
        "outputId": "5c5a81c6-3712-4e7d-dd1d-01befff9dea6",
        "colab": {
          "base_uri": "https://localhost:8080/"
        }
      },
      "outputs": [
        {
          "output_type": "stream",
          "name": "stdout",
          "text": [
            "Testing affine_forward function:\n",
            "difference:  9.769849468192957e-10\n"
          ]
        }
      ],
      "source": [
        "# Test the affine_forward function\n",
        "\n",
        "num_inputs = 2\n",
        "input_shape = (4, 5, 6)\n",
        "output_dim = 3\n",
        "\n",
        "input_size = num_inputs * np.prod(input_shape)\n",
        "weight_size = output_dim * np.prod(input_shape)\n",
        "\n",
        "x = np.linspace(-0.1, 0.5, num=input_size).reshape(num_inputs, *input_shape)\n",
        "w = np.linspace(-0.2, 0.3, num=weight_size).reshape(np.prod(input_shape), output_dim)\n",
        "b = np.linspace(-0.3, 0.1, num=output_dim)\n",
        "\n",
        "out, _ = affine_forward(x, w, b)\n",
        "correct_out = np.array([[ 1.49834967,  1.70660132,  1.91485297],\n",
        "                        [ 3.25553199,  3.5141327,   3.77273342]])\n",
        "\n",
        "# Compare your output with ours. The error should be around e-9 or less.\n",
        "print('Testing affine_forward function:')\n",
        "print('difference: ', rel_error(out, correct_out))"
      ]
    },
    {
      "cell_type": "markdown",
      "metadata": {
        "id": "pC1KwdCBNj3q"
      },
      "source": [
        "<font size='4' color='red'>**Task 1.2: Affine layer: backward pass (no for loops are allowed) (3 points).**\n",
        "    \n",
        "Now implement the `affine_backward` function and test your implementation using numeric gradient checking."
      ]
    },
    {
      "cell_type": "code",
      "execution_count": 8,
      "metadata": {
        "id": "Cb48L1rYNj3r"
      },
      "outputs": [],
      "source": [
        "def affine_backward(dout, cache):\n",
        "    \"\"\"\n",
        "    Computes the backward pass for an affine layer.\n",
        "\n",
        "    Inputs:\n",
        "    - dout: Upstream derivative, of shape (N, M)\n",
        "    - cache: Tuple of:\n",
        "      - x: Input data, of shape (N, d_1, ... d_k)\n",
        "      - w: Weights, of shape (D, M)\n",
        "      - b: Biases, of shape (M,)\n",
        "\n",
        "    Returns a tuple of:\n",
        "    - dx: Gradient with respect to x, of shape (N, d1, ..., d_k)\n",
        "    - dw: Gradient with respect to w, of shape (D, M)\n",
        "    - db: Gradient with respect to b, of shape (M,)\n",
        "    \"\"\"\n",
        "    x, w, b = cache\n",
        "    dx, dw, db = None, None, None\n",
        "    ###########################################################################\n",
        "    # TODO: Implement the affine backward pass.                               #\n",
        "    ###########################################################################\n",
        "    \n",
        "    x_reshape = x.reshape(x.shape[0],-1)\n",
        "    \n",
        "    dx = np.dot(dout, w.T).reshape(x.shape)\n",
        "    dw = np.dot(x_reshape.T, dout)\n",
        "    db = np.sum(dout, axis=0)\n",
        "      \n",
        "\n",
        "    ###########################################################################\n",
        "    #                             END OF YOUR CODE                            #\n",
        "    ###########################################################################\n",
        "    return dx, dw, db"
      ]
    },
    {
      "cell_type": "code",
      "execution_count": 9,
      "metadata": {
        "id": "SNAN7IP_Nj3r",
        "outputId": "1cc2a99e-4d04-487f-dda6-da570b8213f6",
        "colab": {
          "base_uri": "https://localhost:8080/"
        }
      },
      "outputs": [
        {
          "output_type": "stream",
          "name": "stdout",
          "text": [
            "Testing affine_backward function:\n",
            "dx error:  5.399100368651805e-11\n",
            "dw error:  9.904211865398145e-11\n",
            "db error:  2.4122867568119087e-11\n"
          ]
        }
      ],
      "source": [
        "# Test the affine_backward function\n",
        "np.random.seed(231)\n",
        "x = np.random.randn(10, 2, 3)\n",
        "w = np.random.randn(6, 5)\n",
        "b = np.random.randn(5)\n",
        "dout = np.random.randn(10, 5)\n",
        "\n",
        "dx_num = eval_numerical_gradient_array(lambda x: affine_forward(x, w, b)[0], x, dout)\n",
        "dw_num = eval_numerical_gradient_array(lambda w: affine_forward(x, w, b)[0], w, dout)\n",
        "db_num = eval_numerical_gradient_array(lambda b: affine_forward(x, w, b)[0], b, dout)\n",
        "\n",
        "_, cache = affine_forward(x, w, b)\n",
        "dx, dw, db = affine_backward(dout, cache)\n",
        "\n",
        "# The error should be around e-10 or less\n",
        "print('Testing affine_backward function:')\n",
        "print('dx error: ', rel_error(dx_num, dx))\n",
        "print('dw error: ', rel_error(dw_num, dw))\n",
        "print('db error: ', rel_error(db_num, db))"
      ]
    },
    {
      "cell_type": "markdown",
      "metadata": {
        "id": "qnYVYqJiNj3s"
      },
      "source": [
        "<font size='4' color='red'>**Task 1.3: ReLU activation: forward pass (no for loops are allowed) (2 points).**\n",
        "    \n",
        "Implement the forward pass for the ReLU activation function in the `relu_forward` function and test your implementation using the following:"
      ]
    },
    {
      "cell_type": "code",
      "execution_count": 10,
      "metadata": {
        "id": "bqxAF0UPNj3t"
      },
      "outputs": [],
      "source": [
        "def relu_forward(x):\n",
        "    \"\"\"\n",
        "    Computes the forward pass for a layer of rectified linear units (ReLUs).\n",
        "\n",
        "    Input:\n",
        "    - x: Inputs, of any shape\n",
        "\n",
        "    Returns a tuple of:\n",
        "    - out: Output, of the same shape as x\n",
        "    - cache: x\n",
        "    \"\"\"\n",
        "    out = None\n",
        "    ###########################################################################\n",
        "    # TODO: Implement the ReLU forward pass.                                  #\n",
        "    ###########################################################################\n",
        "    \n",
        "    out = np.maximum(0,x)\n",
        "    \n",
        "    ###########################################################################\n",
        "    #                             END OF YOUR CODE                            #\n",
        "    ###########################################################################\n",
        "    cache = x\n",
        "    return out, cache"
      ]
    },
    {
      "cell_type": "code",
      "execution_count": 11,
      "metadata": {
        "id": "WCWLjMvsNj3u",
        "outputId": "851646b0-1edd-4fbb-e200-9a9030879562",
        "colab": {
          "base_uri": "https://localhost:8080/"
        }
      },
      "outputs": [
        {
          "output_type": "stream",
          "name": "stdout",
          "text": [
            "Testing relu_forward function:\n",
            "difference:  4.999999798022158e-08\n"
          ]
        }
      ],
      "source": [
        "# Test the relu_forward function\n",
        "\n",
        "x = np.linspace(-0.5, 0.5, num=12).reshape(3, 4)\n",
        "\n",
        "out, _ = relu_forward(x)\n",
        "correct_out = np.array([[ 0.,          0.,          0.,          0.,        ],\n",
        "                        [ 0.,          0.,          0.04545455,  0.13636364,],\n",
        "                        [ 0.22727273,  0.31818182,  0.40909091,  0.5,       ]])\n",
        "\n",
        "# Compare your output with ours. The error should be on the order of e-8\n",
        "print('Testing relu_forward function:')\n",
        "print('difference: ', rel_error(out, correct_out))"
      ]
    },
    {
      "cell_type": "markdown",
      "metadata": {
        "id": "koTOeE6ANj3u"
      },
      "source": [
        "<font size='4' color='red'>**Task 1.4: ReLU activation: backward pass (no for loops are allowed) (2 points).**\n",
        "    \n",
        "Now implement the backward pass for the ReLU activation function in the `relu_backward` function and test your implementation using numeric gradient checking:"
      ]
    },
    {
      "cell_type": "code",
      "execution_count": 12,
      "metadata": {
        "id": "3gka6SAENj3v"
      },
      "outputs": [],
      "source": [
        "def relu_backward(dout, cache):\n",
        "    \"\"\"\n",
        "    Computes the backward pass for a layer of rectified linear units (ReLUs).\n",
        "\n",
        "    Input:\n",
        "    - dout: Upstream derivatives, of any shape\n",
        "    - cache: Input x, of same shape as dout\n",
        "\n",
        "    Returns:\n",
        "    - dx: Gradient with respect to x\n",
        "    \"\"\"\n",
        "    dx, x = None, cache\n",
        "    ###########################################################################\n",
        "    # TODO: Implement the ReLU backward pass.                                 #\n",
        "    ###########################################################################\n",
        "    \n",
        "    temp = x > 0\n",
        "    dx = dout * temp\n",
        "\n",
        "    ###########################################################################\n",
        "    #                             END OF YOUR CODE                            #\n",
        "    ###########################################################################\n",
        "    return dx"
      ]
    },
    {
      "cell_type": "code",
      "execution_count": 13,
      "metadata": {
        "id": "_AWiGOlONj3v",
        "outputId": "3b458574-e490-4f4f-afe0-69698d107f52",
        "colab": {
          "base_uri": "https://localhost:8080/"
        }
      },
      "outputs": [
        {
          "output_type": "stream",
          "name": "stdout",
          "text": [
            "Testing relu_backward function:\n",
            "dx error:  3.2756349136310288e-12\n"
          ]
        }
      ],
      "source": [
        "np.random.seed(231)\n",
        "x = np.random.randn(10, 10)\n",
        "dout = np.random.randn(*x.shape)\n",
        "\n",
        "dx_num = eval_numerical_gradient_array(lambda x: relu_forward(x)[0], x, dout)\n",
        "\n",
        "_, cache = relu_forward(x)\n",
        "dx = relu_backward(dout, cache)\n",
        "\n",
        "# The error should be on the order of e-12\n",
        "print('Testing relu_backward function:')\n",
        "print('dx error: ', rel_error(dx_num, dx))"
      ]
    },
    {
      "cell_type": "markdown",
      "metadata": {
        "id": "I6q1hoHdNj3v"
      },
      "source": [
        "<font size='4' color='red'>**Task 1.5: Softmax loss layer (no for loops are allowed) (4 points).**"
      ]
    },
    {
      "cell_type": "code",
      "execution_count": 14,
      "metadata": {
        "id": "XgviY_6RNj3w"
      },
      "outputs": [],
      "source": [
        "def softmax_loss(x, y):\n",
        "    \"\"\"\n",
        "    Computes the loss and gradient for softmax classification.\n",
        "\n",
        "    Inputs:\n",
        "    - x: Input data, of shape (N, C) where x[i, j] is the score for the jth\n",
        "      class for the ith input.\n",
        "    - y: Vector of labels, of shape (N,) where y[i] is the label for x[i] and\n",
        "      0 <= y[i] < C\n",
        "\n",
        "    Returns a tuple of:\n",
        "    - loss: Scalar giving the loss\n",
        "    - dx: Gradient of the loss with respect to x\n",
        "    \"\"\"\n",
        "\n",
        "    ###########################################################################\n",
        "    # TODO: Implement the softmax_loss function,                              #\n",
        "    # including the forward and backward passes.                              #\n",
        "    ###########################################################################\n",
        "    \n",
        "    N = x.shape[0]\n",
        "    prob = np.divide(np.exp(x), np.sum(np.exp(x), axis=1, keepdims=True))\n",
        "    log_prob = -np.log(prob)   \n",
        "    \n",
        "    mat  = np.zeros(shape=log_prob.shape)\n",
        "    mat[np.arange(N), y] = 1\n",
        "    \n",
        "    loss = mat * log_prob\n",
        "    loss = np.sum(loss) / N\n",
        "    \n",
        "    # calculate dx\n",
        "    dx = prob\n",
        "    dx[np.arange(N), y] -= 1\n",
        "    dx = dx / N\n",
        "    \n",
        "    ###########################################################################\n",
        "    #                             END OF YOUR CODE                            #\n",
        "    ###########################################################################\n",
        "    \n",
        "    return loss, dx"
      ]
    },
    {
      "cell_type": "code",
      "execution_count": 15,
      "metadata": {
        "id": "u89PSaicNj3w",
        "outputId": "be893301-b4db-4463-95c9-6da1ae5b267f",
        "colab": {
          "base_uri": "https://localhost:8080/"
        }
      },
      "outputs": [
        {
          "output_type": "stream",
          "name": "stdout",
          "text": [
            "\n",
            "Testing softmax_loss:\n",
            "loss:  2.302800487936905\n",
            "dx error:  7.753545774654281e-09\n"
          ]
        }
      ],
      "source": [
        "# Let's check your implementation\n",
        "np.random.seed(5330)\n",
        "num_classes, num_inputs = 10, 50\n",
        "x = 0.001 * np.random.randn(num_inputs, num_classes)\n",
        "y = np.random.randint(num_classes, size=num_inputs)\n",
        "\n",
        "dx_num = eval_numerical_gradient(lambda x: softmax_loss(x, y)[0], x, verbose=False)\n",
        "loss, dx = softmax_loss(x, y)\n",
        "\n",
        "# Test softmax_loss function. Loss should be close to 2.3 and dx error should be around e-8\n",
        "print('\\nTesting softmax_loss:')\n",
        "print('loss: ', loss)\n",
        "print('dx error: ', rel_error(dx_num, dx))"
      ]
    },
    {
      "cell_type": "markdown",
      "metadata": {
        "id": "SJhzCxqoNj3w"
      },
      "source": [
        "### Part 1.2: Fully-Connected Neural Networks"
      ]
    },
    {
      "cell_type": "markdown",
      "metadata": {
        "id": "dnV8Ir7JNj3x"
      },
      "source": [
        "<font size='4' color='red'>**Task 1.6: Two-layer network (no for loops are allowed in your implementation) (6 points)**\n",
        "    \n",
        "<font size='4'>Complete the implementation of the `TwoLayerNet` class. This class will serve as a model for the other networks you will implement in this assignment, so read through it to make sure you understand the API. You can run the cell below to test your implementation."
      ]
    },
    {
      "cell_type": "code",
      "execution_count": 16,
      "metadata": {
        "id": "1FM3NeEkNj3x"
      },
      "outputs": [],
      "source": [
        "class TwoLayerNet(object):\n",
        "    \"\"\"\n",
        "    A two-layer fully-connected neural network with ReLU nonlinearity and\n",
        "    softmax loss that uses a modular layer design. We assume an input dimension\n",
        "    of D, a hidden dimension of H, and perform classification over C classes.\n",
        "\n",
        "    The architecure should be affine - relu - affine - softmax.\n",
        "\n",
        "    Note that this class does not implement gradient descent; instead, it\n",
        "    will interact with a separate Solver object that is responsible for running\n",
        "    optimization.\n",
        "\n",
        "    The learnable parameters of the model are stored in the dictionary\n",
        "    self.params that maps parameter names to numpy arrays.\n",
        "    \"\"\"\n",
        "\n",
        "    def __init__(self, input_dim=3*32*32, hidden_dim=100, num_classes=10,\n",
        "                 weight_scale=1e-3, reg=0.0):\n",
        "        \"\"\"\n",
        "        Initialize a new network.\n",
        "\n",
        "        Inputs:\n",
        "        - input_dim: An integer giving the size of the input\n",
        "        - hidden_dim: An integer giving the size of the hidden layer\n",
        "        - num_classes: An integer giving the number of classes to classify\n",
        "        - weight_scale: Scalar giving the standard deviation for random\n",
        "          initialization of the weights.\n",
        "        - reg: Scalar giving L2 regularization strength.\n",
        "        \"\"\"\n",
        "        self.params = {}\n",
        "        self.reg = reg\n",
        "\n",
        "        ############################################################################\n",
        "        # TODO: Initialize the weights and biases of the two-layer net. Weights    #\n",
        "        # should be initialized from a Gaussian centered at 0.0 with               #\n",
        "        # standard deviation equal to weight_scale, and biases should be           #\n",
        "        # initialized to zero. All weights and biases should be stored in the      #\n",
        "        # dictionary self.params, with first layer weights                         #\n",
        "        # and biases using the keys 'W1' and 'b1' and second layer                 #\n",
        "        # weights and biases using the keys 'W2' and 'b2'.                         #\n",
        "        ############################################################################\n",
        "        \n",
        "        self.ip_dim = input_dim\n",
        "\n",
        "        # initializing weights\n",
        "        self.params['W1'] = np.random.normal(loc=0, scale=weight_scale, size=(input_dim, hidden_dim))\n",
        "        self.params['b1'] = np.zeros(hidden_dim)\n",
        "        self.params['W2'] = np.random.normal(loc=0, scale=weight_scale, size=(hidden_dim, num_classes))\n",
        "        self.params['b2'] = np.zeros(num_classes)\n",
        "    \n",
        "        ############################################################################\n",
        "        #                             END OF YOUR CODE                             #\n",
        "        ############################################################################\n",
        "\n",
        "\n",
        "    def loss(self, X, y=None):\n",
        "        \"\"\"\n",
        "        Compute loss and gradient for a minibatch of data.\n",
        "\n",
        "        Inputs:\n",
        "        - X: Array of input data of shape (N, d_1, ..., d_k)\n",
        "        - y: Array of labels, of shape (N,). y[i] gives the label for X[i].\n",
        "\n",
        "        Returns:\n",
        "        If y is None, then run a test-time forward pass of the model and return:\n",
        "        - scores: Array of shape (N, C) giving classification scores, where\n",
        "          scores[i, c] is the classification score for X[i] and class c.\n",
        "\n",
        "        If y is not None, then run a training-time forward and backward pass and\n",
        "        return a tuple of:\n",
        "        - loss: Scalar value giving the loss\n",
        "        - grads: Dictionary with the same keys as self.params, mapping parameter\n",
        "          names to gradients of the loss with respect to those parameters.\n",
        "        \"\"\"\n",
        "        scores = None\n",
        "        ############################################################################\n",
        "        # TODO: Implement the forward pass for the two-layer net, computing the    #\n",
        "        # class scores for X and storing them in the scores variable.              #\n",
        "        ############################################################################\n",
        "        \n",
        "        # affine - relu - affine - softmax.\n",
        "        \n",
        "        W1, W2 = self.params['W1'], self.params['W2']\n",
        "        b1, b2 = self.params['b1'], self.params['b2']\n",
        "\n",
        "        X = X.reshape(X.shape[0], -1)\n",
        "\n",
        "        # Forward into first layer\n",
        "        fwd1, cache_fwd1 = affine_forward(X, W1, b1)\n",
        "\n",
        "        # Relu\n",
        "        relu_out, cache_relu = relu_forward(fwd1)\n",
        "\n",
        "        # Forward into second layer\n",
        "        scores, cache_scores = affine_forward(relu_out, W2, b2)\n",
        "\n",
        "        ############################################################################\n",
        "        #                             END OF YOUR CODE                             #\n",
        "        ############################################################################\n",
        "\n",
        "        # If y is None then we are in test mode so just return scores\n",
        "        if y is None:\n",
        "            return scores\n",
        "\n",
        "        loss, grads = 0, {}\n",
        "        ############################################################################\n",
        "        # TODO: Implement the backward pass for the two-layer net. Store the loss  #\n",
        "        # in the loss variable and gradients in the grads dictionary. Compute data #\n",
        "        # loss using softmax, and make sure that grads[k] holds the gradients for  #\n",
        "        # self.params[k]. Don't forget to add L2 regularization!                   #\n",
        "        #                                                                          #\n",
        "        # NOTE: To ensure that your implementation matches ours and you pass the   #\n",
        "        # automated tests, make sure that your L2 regularization includes a factor #\n",
        "        # of 0.5 to simplify the expression for the gradient.                      #\n",
        "        ############################################################################\n",
        "        \n",
        "        loss, dz = softmax_loss(scores, y)\n",
        "        reg_loss = 0.5 * self.reg * (np.sum(W1**2) + np.sum(W2**2))\n",
        "        loss += reg_loss\n",
        "\n",
        "        # backward \n",
        "        dx2, dW2, db2 = affine_backward(dz, cache_scores)\n",
        "        grads['W2'] = dW2 + self.reg * W2 \n",
        "        grads['b2'] = db2\n",
        "\n",
        "        # relu backward        \n",
        "        da = relu_backward(dx2,cache_relu)\n",
        "\n",
        "        # backward\n",
        "        dx1, dW1, db1 = affine_backward(da, cache_fwd1)\n",
        "        grads['W1'] = dW1 + self.reg * W1\n",
        "        grads['b1'] = db1\n",
        "\n",
        "        ############################################################################\n",
        "        #                             END OF YOUR CODE                             #\n",
        "        ############################################################################\n",
        "\n",
        "        return loss, grads"
      ]
    },
    {
      "cell_type": "code",
      "execution_count": 17,
      "metadata": {
        "id": "VaD0QeS4Nj3y",
        "outputId": "070007e6-d333-4f6b-e3b4-dbcfe23ab65e",
        "colab": {
          "base_uri": "https://localhost:8080/"
        }
      },
      "outputs": [
        {
          "output_type": "stream",
          "name": "stdout",
          "text": [
            "Testing initialization ... \n",
            "Testing test-time forward pass ... \n",
            "Testing training loss (no regularization)\n",
            "Running numeric gradient check with reg =  0.0\n",
            "W1 relative error: 1.83e-08\n",
            "W2 relative error: 3.31e-10\n",
            "b1 relative error: 9.83e-09\n",
            "b2 relative error: 4.33e-10\n",
            "Running numeric gradient check with reg =  0.7\n",
            "W1 relative error: 2.53e-07\n",
            "W2 relative error: 2.85e-08\n",
            "b1 relative error: 1.56e-08\n",
            "b2 relative error: 7.76e-10\n"
          ]
        }
      ],
      "source": [
        "# Let's check your implementation\n",
        "np.random.seed(5330)\n",
        "N, D, H, C = 3, 5, 50, 7\n",
        "X = np.random.randn(N, D)\n",
        "y = np.random.randint(C, size=N)\n",
        "\n",
        "std = 1e-3\n",
        "model = TwoLayerNet(input_dim=D, hidden_dim=H, num_classes=C, weight_scale=std)\n",
        "\n",
        "print('Testing initialization ... ')\n",
        "W1_std = abs(model.params['W1'].std() - std)\n",
        "b1 = model.params['b1']\n",
        "W2_std = abs(model.params['W2'].std() - std)\n",
        "b2 = model.params['b2']\n",
        "assert W1_std < std / 10, 'First layer weights do not seem right'\n",
        "assert np.all(b1 == 0), 'First layer biases do not seem right'\n",
        "assert W2_std < std / 10, 'Second layer weights do not seem right'\n",
        "assert np.all(b2 == 0), 'Second layer biases do not seem right'\n",
        "\n",
        "print('Testing test-time forward pass ... ')\n",
        "model.params['W1'] = np.linspace(-0.7, 0.3, num=D*H).reshape(D, H)\n",
        "model.params['b1'] = np.linspace(-0.1, 0.9, num=H)\n",
        "model.params['W2'] = np.linspace(-0.3, 0.4, num=H*C).reshape(H, C)\n",
        "model.params['b2'] = np.linspace(-0.9, 0.1, num=C)\n",
        "X = np.linspace(-5.5, 4.5, num=N*D).reshape(D, N).T\n",
        "scores = model.loss(X)\n",
        "correct_scores = np.asarray(\n",
        "  [[11.53165108,  12.2917344,   13.05181771,  13.81190102,  14.57198434, 15.33206765,  16.09215096],\n",
        "   [12.05769098,  12.74614105,  13.43459113,  14.1230412,   14.81149128, 15.49994135,  16.18839143],\n",
        "   [12.58373087,  13.20054771,  13.81736455,  14.43418138,  15.05099822, 15.66781506,  16.2846319 ]])\n",
        "scores_diff = np.abs(scores - correct_scores).sum()\n",
        "assert scores_diff < 1e-6, 'Problem with test-time forward pass'\n",
        "\n",
        "print('Testing training loss (no regularization)')\n",
        "y = np.asarray([0, 5, 1])\n",
        "loss, grads = model.loss(X, y)\n",
        "correct_loss = 3.4702243556\n",
        "assert abs(loss - correct_loss) < 1e-10, 'Problem with training-time loss'\n",
        "\n",
        "model.reg = 1.0\n",
        "loss, grads = model.loss(X, y)\n",
        "correct_loss = 26.5948426952\n",
        "assert abs(loss - correct_loss) < 1e-10, 'Problem with regularization loss'\n",
        "\n",
        "# Errors should be around e-7 or less\n",
        "for reg in [0.0, 0.7]:\n",
        "  print('Running numeric gradient check with reg = ', reg)\n",
        "  model.reg = reg\n",
        "  loss, grads = model.loss(X, y)\n",
        "\n",
        "  for name in sorted(grads):\n",
        "    f = lambda _: model.loss(X, y)[0]\n",
        "    grad_num = eval_numerical_gradient(f, model.params[name], verbose=False)\n",
        "    print('%s relative error: %.2e' % (name, rel_error(grad_num, grads[name])))"
      ]
    },
    {
      "cell_type": "markdown",
      "metadata": {
        "id": "OW44693kNj3y"
      },
      "source": [
        "<font size='4' color='red'>**Task 1.7: Solver (2 points).**\n",
        "    \n",
        "<font size='4'>Following a more modular design, we have split the logic for training models into a separate class.\n",
        "\n",
        "<font size='4'>Open the file `pa4_code/utils/solver.py` and read through it to familiarize yourself with the API. After doing so, use a `Solver` instance to train a `TwoLayerNet` that <font color='red'>achieves at least `50%` accuracy on the validation set."
      ]
    },
    {
      "cell_type": "code",
      "execution_count": 18,
      "metadata": {
        "id": "gwNlm4zRNj3y",
        "outputId": "c1646cb5-62c6-4265-bea2-e8800a97971d",
        "colab": {
          "base_uri": "https://localhost:8080/"
        }
      },
      "outputs": [
        {
          "output_type": "stream",
          "name": "stdout",
          "text": [
            "(Iteration 1 / 4900) loss: 2.303352\n",
            "(Epoch 0 / 10) train acc: 0.155000; val_acc: 0.138000\n",
            "(Iteration 101 / 4900) loss: 1.946860\n",
            "(Iteration 201 / 4900) loss: 1.682013\n",
            "(Iteration 301 / 4900) loss: 1.529518\n",
            "(Iteration 401 / 4900) loss: 1.563434\n",
            "(Epoch 1 / 10) train acc: 0.440000; val_acc: 0.428000\n",
            "(Iteration 501 / 4900) loss: 1.607043\n",
            "(Iteration 601 / 4900) loss: 1.540374\n",
            "(Iteration 701 / 4900) loss: 1.457277\n",
            "(Iteration 801 / 4900) loss: 1.446790\n",
            "(Iteration 901 / 4900) loss: 1.453515\n",
            "(Epoch 2 / 10) train acc: 0.499000; val_acc: 0.444000\n",
            "(Iteration 1001 / 4900) loss: 1.276582\n",
            "(Iteration 1101 / 4900) loss: 1.342868\n",
            "(Iteration 1201 / 4900) loss: 1.540757\n",
            "(Iteration 1301 / 4900) loss: 1.480074\n",
            "(Iteration 1401 / 4900) loss: 1.435144\n",
            "(Epoch 3 / 10) train acc: 0.515000; val_acc: 0.476000\n",
            "(Iteration 1501 / 4900) loss: 1.337998\n",
            "(Iteration 1601 / 4900) loss: 1.334147\n",
            "(Iteration 1701 / 4900) loss: 1.307670\n",
            "(Iteration 1801 / 4900) loss: 1.367118\n",
            "(Iteration 1901 / 4900) loss: 1.274182\n",
            "(Epoch 4 / 10) train acc: 0.567000; val_acc: 0.495000\n",
            "(Iteration 2001 / 4900) loss: 1.350516\n",
            "(Iteration 2101 / 4900) loss: 1.308647\n",
            "(Iteration 2201 / 4900) loss: 1.307726\n",
            "(Iteration 2301 / 4900) loss: 1.337317\n",
            "(Iteration 2401 / 4900) loss: 1.255113\n",
            "(Epoch 5 / 10) train acc: 0.543000; val_acc: 0.493000\n",
            "(Iteration 2501 / 4900) loss: 1.009971\n",
            "(Iteration 2601 / 4900) loss: 1.216396\n",
            "(Iteration 2701 / 4900) loss: 1.216501\n",
            "(Iteration 2801 / 4900) loss: 1.132852\n",
            "(Iteration 2901 / 4900) loss: 1.303925\n",
            "(Epoch 6 / 10) train acc: 0.541000; val_acc: 0.503000\n",
            "(Iteration 3001 / 4900) loss: 1.067547\n",
            "(Iteration 3101 / 4900) loss: 1.241565\n",
            "(Iteration 3201 / 4900) loss: 1.001470\n",
            "(Iteration 3301 / 4900) loss: 1.109415\n",
            "(Iteration 3401 / 4900) loss: 1.278126\n",
            "(Epoch 7 / 10) train acc: 0.583000; val_acc: 0.489000\n",
            "(Iteration 3501 / 4900) loss: 1.052219\n",
            "(Iteration 3601 / 4900) loss: 1.386253\n",
            "(Iteration 3701 / 4900) loss: 1.396070\n",
            "(Iteration 3801 / 4900) loss: 1.107877\n",
            "(Iteration 3901 / 4900) loss: 1.149499\n",
            "(Epoch 8 / 10) train acc: 0.600000; val_acc: 0.519000\n",
            "(Iteration 4001 / 4900) loss: 1.247454\n",
            "(Iteration 4101 / 4900) loss: 1.241771\n",
            "(Iteration 4201 / 4900) loss: 1.112233\n",
            "(Iteration 4301 / 4900) loss: 1.021776\n",
            "(Iteration 4401 / 4900) loss: 1.241506\n",
            "(Epoch 9 / 10) train acc: 0.598000; val_acc: 0.500000\n",
            "(Iteration 4501 / 4900) loss: 1.198215\n",
            "(Iteration 4601 / 4900) loss: 0.971767\n",
            "(Iteration 4701 / 4900) loss: 1.079859\n",
            "(Iteration 4801 / 4900) loss: 1.162763\n",
            "(Epoch 10 / 10) train acc: 0.611000; val_acc: 0.521000\n"
          ]
        }
      ],
      "source": [
        "from utils.solver import Solver\n",
        "\n",
        "model = TwoLayerNet()\n",
        "solver = None\n",
        "\n",
        "##############################################################################\n",
        "# TODO: Use a Solver instance to train a TwoLayerNet that achieves at least  #\n",
        "# 50% accuracy on the validation set.                                        #\n",
        "##############################################################################\n",
        "\n",
        "solver = Solver(model, data,\n",
        "                update_rule='sgd',\n",
        "                optim_config={\n",
        "                'learning_rate': 1e-3,\n",
        "                },\n",
        "                lr_decay=0.95,\n",
        "                num_epochs=10, batch_size=100,\n",
        "                print_every=100)\n",
        "solver.train()\n",
        "\n",
        "##############################################################################\n",
        "#                             END OF YOUR CODE                               #\n",
        "##############################################################################"
      ]
    },
    {
      "cell_type": "code",
      "execution_count": 19,
      "metadata": {
        "id": "4KiYj5BtNj3z",
        "outputId": "f6207ef8-5c0f-4eed-a0b3-6a9dca5177a6",
        "colab": {
          "base_uri": "https://localhost:8080/",
          "height": 730
        }
      },
      "outputs": [
        {
          "output_type": "display_data",
          "data": {
            "image/png": "[encoded data removed]",
            "text/plain": [
              "<Figure size 1080x864 with 2 Axes>"
            ]
          },
          "metadata": {
            "needs_background": "light"
          }
        }
      ],
      "source": [
        "# Run this cell to visualize training loss and train / val accuracy\n",
        "plt.subplot(2, 1, 1)\n",
        "plt.title('Training loss')\n",
        "plt.plot(solver.loss_history, 'o')\n",
        "plt.xlabel('Iteration')\n",
        "\n",
        "plt.subplot(2, 1, 2)\n",
        "plt.title('Accuracy')\n",
        "plt.plot(solver.train_acc_history, '-o', label='train')\n",
        "plt.plot(solver.val_acc_history, '-o', label='val')\n",
        "plt.plot([0.5] * len(solver.val_acc_history), 'k--')\n",
        "plt.xlabel('Epoch')\n",
        "plt.legend(loc='lower right')\n",
        "plt.gcf().set_size_inches(15, 12)\n",
        "plt.show()"
      ]
    },
    {
      "cell_type": "markdown",
      "metadata": {
        "id": "HHOGoZS3Nj3z"
      },
      "source": [
        "<font size='4' color='red'>**Task 1.8: Multilayer network (8 points).**\n",
        "    \n",
        "<font size='4'>Next you will implement a fully-connected network with an arbitrary number of hidden layers.\n",
        "\n",
        "<font size='4'>Implement the initialization, the forward pass, and the backward pass. For the moment don't worry about implementing dropout or batch/layer normalization."
      ]
    },
    {
      "cell_type": "code",
      "execution_count": 20,
      "metadata": {
        "id": "y3eSgPB1Nj3z"
      },
      "outputs": [],
      "source": [
        "class FullyConnectedNet(object):\n",
        "    \"\"\"\n",
        "    A fully-connected neural network with an arbitrary number of hidden layers,\n",
        "    ReLU nonlinearities, and a softmax loss function. For a network with L layers,\n",
        "    the architecture will be\n",
        "\n",
        "    {affine - relu} x (L - 1) - affine - softmax\n",
        "\n",
        "    where batch/layer normalization and dropout are optional, and the {...} block is\n",
        "    repeated L - 1 times.\n",
        "\n",
        "    Similar to the TwoLayerNet above, learnable parameters are stored in the\n",
        "    self.params dictionary and will be learned using the Solver class.\n",
        "    \"\"\"\n",
        "\n",
        "    def __init__(self, hidden_dims, input_dim=3*32*32, num_classes=10, reg=0.0,\n",
        "                 weight_scale=1e-2, dtype=np.float32, seed=None):\n",
        "        \"\"\"\n",
        "        Initialize a new FullyConnectedNet.\n",
        "\n",
        "        Inputs:\n",
        "        - hidden_dims: A list of integers giving the size of each hidden layer.\n",
        "        - input_dim: An integer giving the size of the input.\n",
        "        - num_classes: An integer giving the number of classes to classify.\n",
        "        - reg: Scalar giving L2 regularization strength.\n",
        "        - weight_scale: Scalar giving the standard deviation for random\n",
        "          initialization of the weights.\n",
        "        - dtype: A numpy datatype object; all computations will be performed using\n",
        "          this datatype. float32 is faster but less accurate, so you should use\n",
        "          float64 for numeric gradient checking.\n",
        "        - seed: If not None, then pass this random seed to the dropout layers. This\n",
        "          will make the dropout layers deteriminstic so we can gradient check the\n",
        "          model.\n",
        "        \"\"\"\n",
        "\n",
        "        self.reg = reg\n",
        "        self.num_layers = len(hidden_dims) + 1\n",
        "        self.dtype = dtype\n",
        "        self.params = {}\n",
        "\n",
        "        ############################################################################\n",
        "        # TODO: Initialize the parameters of the network, storing all values in    #\n",
        "        # the self.params dictionary. Store weights and biases for the first layer #\n",
        "        # in W1 and b1; for the second layer use W2 and b2, etc. Weights should be #\n",
        "        # initialized from a normal distribution centered at 0 with standard       #\n",
        "        # deviation equal to weight_scale. Biases should be initialized to zero.   #\n",
        "        ############################################################################\n",
        "        \n",
        "        # initializing weight for first layer\n",
        "        self.params['W1'] = np.random.normal(loc=0, scale=weight_scale, size=(input_dim, hidden_dims[0]))\n",
        "        self.params['b1'] = np.zeros(hidden_dims[0])\n",
        "\n",
        "        # initializing weight for hidden layers   \n",
        "        for i in range(2, self.num_layers) :\n",
        "            self.params['W' + str(i)] = np.random.normal(loc=0, scale=weight_scale, size=(hidden_dims[i-2], hidden_dims[i-1]))\n",
        "            self.params['b' + str(i)] = np.zeros(hidden_dims[i-1])\n",
        "\n",
        "        # initializing weight for last layer\n",
        "        self.params['W' + str(self.num_layers)] = np.random.normal(loc=0, scale=weight_scale, size=(hidden_dims[-1], num_classes))\n",
        "        self.params['b' + str(self.num_layers)] = np.zeros(num_classes)\n",
        "        \n",
        "        # Cast all parameters to the correct datatype\n",
        "        for k, v in self.params.items():\n",
        "            self.params[k] = v.astype(dtype) \n",
        "\n",
        "        ############################################################################\n",
        "        #                             END OF YOUR CODE                             #\n",
        "        ############################################################################\n",
        "\n",
        "    def loss(self, X, y=None):\n",
        "        \"\"\"\n",
        "        Compute loss and gradient for the fully-connected net.\n",
        "\n",
        "        Input / output: Same as TwoLayerNet above.\n",
        "        \"\"\"\n",
        "        X = X.astype(self.dtype)\n",
        "        mode = 'test' if y is None else 'train'\n",
        "\n",
        "        scores = None\n",
        "        ############################################################################\n",
        "        # TODO: Implement the forward pass for the fully-connected net, computing  #\n",
        "        # the class scores for X and storing them in the scores variable.          #\n",
        "        ############################################################################\n",
        "\n",
        "        # Hidden layers \n",
        "        hidden = {}                                         # to store forward layer cache and weights\n",
        "        relu_hidden = {}                                    # to store relu layer cache and weights\n",
        "       \n",
        "        hidden['h0'] = X.reshape(X.shape[0], -1)\n",
        "        h = hidden['h0']\n",
        "\n",
        "        for i in range(self.num_layers-1) :\n",
        "            \n",
        "            # Naming of the variable\n",
        "            w = self.params['W' + str(i+1)]\n",
        "            b = self.params['b' + str(i+1)]\n",
        "            \n",
        "            h, cache_h = affine_forward(h, w, b)\n",
        "            hidden['h' + str(i+1)] = h\n",
        "            hidden['cache_h' + str(i+1)] = cache_h\n",
        "\n",
        "            relu_out_hidden, cache_relu_hidden = relu_forward(h)\n",
        "            relu_hidden['rh' + str(i+1)] = relu_out_hidden\n",
        "            relu_hidden['cache_rh' + str(i+1)] = cache_relu_hidden\n",
        "\n",
        "            h = relu_out_hidden\n",
        "               \n",
        "        # Forward into last layer\n",
        "        scores, cache_scores = affine_forward(h, self.params['W' + str(self.num_layers)], self.params['b' + str(self.num_layers)])\n",
        "\n",
        "        hidden['h' + str(self.num_layers)] = scores\n",
        "        hidden['cache_h' + str(self.num_layers)] = cache_scores\n",
        "\n",
        "        # If test mode return early\n",
        "        if mode == 'test':\n",
        "            return scores\n",
        "\n",
        "        loss, grads = 0.0, {}\n",
        "    \n",
        "        ############################################################################\n",
        "        #                             END OF YOUR CODE                             #\n",
        "        ############################################################################\n",
        "\n",
        "        # If test mode return early\n",
        "        if mode == 'test':\n",
        "            return scores\n",
        "\n",
        "        loss, grads = 0.0, {}\n",
        "        ############################################################################\n",
        "        # TODO: Implement the backward pass for the fully-connected net. Store the #\n",
        "        # loss in the loss variable and gradients in the grads dictionary. Compute #\n",
        "        # data loss using softmax, and make sure that grads[k] holds the gradients #\n",
        "        # for self.params[k]. Don't forget to add L2 regularization!               #\n",
        "        #                                                                          #\n",
        "        # NOTE: To ensure that your implementation matches ours and you pass the   #\n",
        "        # automated tests, make sure that your L2 regularization includes a factor #\n",
        "        # of 0.5 to simplify the expression for the gradient.                      #\n",
        "        ############################################################################\n",
        "                \n",
        "        # Computing of the loss\n",
        "        loss, dscores = softmax_loss(scores, y)\n",
        "        reg_loss = 0\n",
        "\n",
        "        for w in [self.params[f] for f in self.params.keys() if f[0] == 'W']:\n",
        "            reg_loss += 0.5 * self.reg * np.sum(w * w)\n",
        "        loss = loss + reg_loss\n",
        "        \n",
        "        # Backward pass\n",
        "        hidden['dh' + str(self.num_layers + 1)] = dscores\n",
        "        dh = dscores\n",
        "\n",
        "        for i in range(self.num_layers, 0, -1) :\n",
        "            h_cache = hidden['cache_h' + str(i)]\n",
        "\n",
        "            dh, dw, db = affine_backward(dh, h_cache)\n",
        "            hidden['dh' + str(i)] = dh\n",
        "            hidden['dW' + str(i)] = dw\n",
        "            hidden['db' + str(i)] = db\n",
        "\n",
        "            if (i != 1) :\n",
        "                da = relu_backward(dh, relu_hidden['cache_rh' + str(i-1)])\n",
        "                dh = da\n",
        "\n",
        "        # w gradients where we add the regulariation term\n",
        "        list_dw = {key[1:]: val + self.reg * self.params[key[1:]]\n",
        "                   for key, val in hidden.items() if key[:2] == 'dW'}\n",
        "        # Paramerters b\n",
        "        list_db = {key[1:]: val for key, val in hidden.items() if key[:2] ==\n",
        "                   'db'}\n",
        "\n",
        "        grads = {}\n",
        "        grads.update(list_dw)\n",
        "        grads.update(list_db)\n",
        "\n",
        "        ############################################################################\n",
        "        #                             END OF YOUR CODE                             #\n",
        "        ############################################################################\n",
        "\n",
        "        return loss, grads"
      ]
    },
    {
      "cell_type": "code",
      "execution_count": 21,
      "metadata": {
        "id": "J3NF-gCRNj30",
        "outputId": "a96b1b8d-41c0-47bb-8c34-c1a39ade5a16",
        "colab": {
          "base_uri": "https://localhost:8080/"
        }
      },
      "outputs": [
        {
          "output_type": "stream",
          "name": "stdout",
          "text": [
            "Running check with reg =  0\n",
            "Initial loss:  2.3004790897684924\n",
            "W1 relative error: 7.70e-08\n",
            "W2 relative error: 1.71e-05\n",
            "W3 relative error: 2.95e-07\n",
            "b1 relative error: 4.66e-09\n",
            "b2 relative error: 2.09e-09\n",
            "b3 relative error: 6.60e-11\n",
            "Running check with reg =  3.14\n",
            "Initial loss:  7.052114776533016\n",
            "W1 relative error: 1.14e-08\n",
            "W2 relative error: 6.87e-08\n",
            "W3 relative error: 3.48e-08\n",
            "b1 relative error: 1.17e-08\n",
            "b2 relative error: 1.72e-09\n",
            "b3 relative error: 2.87e-10\n"
          ]
        }
      ],
      "source": [
        "np.random.seed(231)\n",
        "N, D, H1, H2, C = 2, 15, 20, 30, 10\n",
        "X = np.random.randn(N, D)\n",
        "y = np.random.randint(C, size=(N,))\n",
        "\n",
        "for reg in [0, 3.14]:\n",
        "    print('Running check with reg = ', reg)\n",
        "    model = FullyConnectedNet(\n",
        "        [H1, H2], \n",
        "        input_dim=D, \n",
        "        num_classes=C,\n",
        "        reg=reg, \n",
        "        weight_scale=5e-2, \n",
        "        dtype=np.float64\n",
        "    )\n",
        "\n",
        "    loss, grads = model.loss(X, y)\n",
        "    print('Initial loss: ', loss)\n",
        "  \n",
        "    # Most of the errors should be on the order of 1e-7 or smaller.   \n",
        "    # NOTE: It is fine however to see an error for W2 on the order of 1e-5\n",
        "    # for the check when reg = 0.0\n",
        "    for name in sorted(grads):\n",
        "        f = lambda _: model.loss(X, y)[0]\n",
        "        grad_num = eval_numerical_gradient(f, model.params[name], verbose=False, h=1e-5)\n",
        "        print('%s relative error: %.2e' % (name, rel_error(grad_num, grads[name])))"
      ]
    },
    {
      "cell_type": "markdown",
      "metadata": {
        "id": "dpO-UigINj30"
      },
      "source": [
        "<font size='4' color='red'>**Task 1.9: Overfitting a small dataset (2 points).**\n",
        "\n",
        "<font size='4'>As another sanity check, make sure you can overfit a small dataset of 50 images. First we will try a three-layer network with 100 units in each hidden layer. In the following cell, tweak the learning rate and initialization scale to overfit and achieve 100% training accuracy within 20 epochs."
      ]
    },
    {
      "cell_type": "code",
      "execution_count": 22,
      "metadata": {
        "scrolled": false,
        "id": "wToUEZf2Nj30",
        "outputId": "c6d62fe8-7692-4617-acf6-92c00fbb5646",
        "colab": {
          "base_uri": "https://localhost:8080/",
          "height": 720
        }
      },
      "outputs": [
        {
          "output_type": "stream",
          "name": "stdout",
          "text": [
            "(Iteration 1 / 40) loss: 2.363364\n",
            "(Epoch 0 / 20) train acc: 0.180000; val_acc: 0.108000\n",
            "(Epoch 1 / 20) train acc: 0.320000; val_acc: 0.127000\n",
            "(Epoch 2 / 20) train acc: 0.440000; val_acc: 0.172000\n",
            "(Epoch 3 / 20) train acc: 0.500000; val_acc: 0.184000\n",
            "(Epoch 4 / 20) train acc: 0.540000; val_acc: 0.181000\n",
            "(Epoch 5 / 20) train acc: 0.740000; val_acc: 0.190000\n",
            "(Iteration 11 / 40) loss: 0.839976\n",
            "(Epoch 6 / 20) train acc: 0.740000; val_acc: 0.187000\n",
            "(Epoch 7 / 20) train acc: 0.740000; val_acc: 0.183000\n",
            "(Epoch 8 / 20) train acc: 0.820000; val_acc: 0.177000\n",
            "(Epoch 9 / 20) train acc: 0.860000; val_acc: 0.200000\n",
            "(Epoch 10 / 20) train acc: 0.920000; val_acc: 0.191000\n",
            "(Iteration 21 / 40) loss: 0.337174\n",
            "(Epoch 11 / 20) train acc: 0.960000; val_acc: 0.189000\n",
            "(Epoch 12 / 20) train acc: 0.940000; val_acc: 0.180000\n",
            "(Epoch 13 / 20) train acc: 1.000000; val_acc: 0.199000\n",
            "(Epoch 14 / 20) train acc: 1.000000; val_acc: 0.199000\n",
            "(Epoch 15 / 20) train acc: 1.000000; val_acc: 0.195000\n",
            "(Iteration 31 / 40) loss: 0.075911\n",
            "(Epoch 16 / 20) train acc: 1.000000; val_acc: 0.182000\n",
            "(Epoch 17 / 20) train acc: 1.000000; val_acc: 0.201000\n",
            "(Epoch 18 / 20) train acc: 1.000000; val_acc: 0.207000\n",
            "(Epoch 19 / 20) train acc: 1.000000; val_acc: 0.185000\n",
            "(Epoch 20 / 20) train acc: 1.000000; val_acc: 0.192000\n"
          ]
        },
        {
          "output_type": "display_data",
          "data": {
            "image/png": "[encoded data removed]",
            "text/plain": [
              "<Figure size 432x288 with 1 Axes>"
            ]
          },
          "metadata": {
            "needs_background": "light"
          }
        }
      ],
      "source": [
        "num_train = 50\n",
        "small_data = {\n",
        "  'X_train': data['X_train'][:num_train],\n",
        "  'y_train': data['y_train'][:num_train],\n",
        "  'X_val': data['X_val'],\n",
        "  'y_val': data['y_val'],\n",
        "}\n",
        "\n",
        "\n",
        "#############################################################\n",
        "# tweaking just the learning rate and initialization scale.\n",
        "#############################################################\n",
        "\n",
        "weight_scale = 1e-2\n",
        "learning_rate = 1e-2\n",
        "\n",
        "#############################################################\n",
        "#                 end of your tweaking                      #\n",
        "#############################################################\n",
        "\n",
        "model = FullyConnectedNet(\n",
        "    [100, 100],\n",
        "    weight_scale=weight_scale, \n",
        "    dtype=np.float64\n",
        "\n",
        ")\n",
        "\n",
        "solver = Solver(\n",
        "    model, small_data,\n",
        "    print_every=10, num_epochs=20, batch_size=25,\n",
        "    update_rule='sgd',\n",
        "    optim_config={'learning_rate': learning_rate,}\n",
        ")\n",
        "solver.train()\n",
        "\n",
        "plt.plot(solver.loss_history, 'o')\n",
        "plt.title('Training loss history')\n",
        "plt.xlabel('Iteration')\n",
        "plt.ylabel('Training loss')\n",
        "plt.show()"
      ]
    },
    {
      "cell_type": "markdown",
      "metadata": {
        "id": "kBBTSjrqNj30"
      },
      "source": [
        "<font size='4' color='red'>**Task 1.10: Overfitting a small dataset with a five-layer network (2 points).**\n",
        "    \n",
        "<font size='4'>Now try to use a five-layer network with 100 units on each layer to overfit 50 training examples. Again you will have to adjust the learning rate and weight initialization, but you should be able to achieve 100% training accuracy within 20 epochs."
      ]
    },
    {
      "cell_type": "code",
      "execution_count": 23,
      "metadata": {
        "id": "LrdqvJGmNj31",
        "outputId": "5af89c26-4888-4562-a5b9-170e44d38b29",
        "colab": {
          "base_uri": "https://localhost:8080/",
          "height": 754
        }
      },
      "outputs": [
        {
          "output_type": "stream",
          "name": "stdout",
          "text": [
            "(Iteration 1 / 40) loss: 166.501707\n",
            "(Epoch 0 / 20) train acc: 0.220000; val_acc: 0.116000\n",
            "(Epoch 1 / 20) train acc: 0.240000; val_acc: 0.083000\n",
            "(Epoch 2 / 20) train acc: 0.160000; val_acc: 0.104000\n"
          ]
        },
        {
          "output_type": "stream",
          "name": "stderr",
          "text": [
            "/usr/local/lib/python3.7/dist-packages/ipykernel_launcher.py:23: RuntimeWarning: divide by zero encountered in log\n",
            "/usr/local/lib/python3.7/dist-packages/ipykernel_launcher.py:28: RuntimeWarning: invalid value encountered in multiply\n"
          ]
        },
        {
          "output_type": "stream",
          "name": "stdout",
          "text": [
            "(Epoch 3 / 20) train acc: 0.520000; val_acc: 0.106000\n",
            "(Epoch 4 / 20) train acc: 0.700000; val_acc: 0.131000\n",
            "(Epoch 5 / 20) train acc: 0.700000; val_acc: 0.116000\n",
            "(Iteration 11 / 40) loss: 4.414592\n",
            "(Epoch 6 / 20) train acc: 0.840000; val_acc: 0.114000\n",
            "(Epoch 7 / 20) train acc: 0.880000; val_acc: 0.108000\n",
            "(Epoch 8 / 20) train acc: 0.900000; val_acc: 0.109000\n",
            "(Epoch 9 / 20) train acc: 0.960000; val_acc: 0.114000\n",
            "(Epoch 10 / 20) train acc: 0.980000; val_acc: 0.127000\n",
            "(Iteration 21 / 40) loss: 0.261098\n",
            "(Epoch 11 / 20) train acc: 1.000000; val_acc: 0.126000\n",
            "(Epoch 12 / 20) train acc: 1.000000; val_acc: 0.124000\n",
            "(Epoch 13 / 20) train acc: 1.000000; val_acc: 0.124000\n",
            "(Epoch 14 / 20) train acc: 1.000000; val_acc: 0.124000\n",
            "(Epoch 15 / 20) train acc: 1.000000; val_acc: 0.125000\n",
            "(Iteration 31 / 40) loss: 0.000594\n",
            "(Epoch 16 / 20) train acc: 1.000000; val_acc: 0.125000\n",
            "(Epoch 17 / 20) train acc: 1.000000; val_acc: 0.125000\n",
            "(Epoch 18 / 20) train acc: 1.000000; val_acc: 0.125000\n",
            "(Epoch 19 / 20) train acc: 1.000000; val_acc: 0.125000\n",
            "(Epoch 20 / 20) train acc: 1.000000; val_acc: 0.125000\n"
          ]
        },
        {
          "output_type": "display_data",
          "data": {
            "image/png": "[encoded data removed]",
            "text/plain": [
              "<Figure size 432x288 with 1 Axes>"
            ]
          },
          "metadata": {
            "needs_background": "light"
          }
        }
      ],
      "source": [
        "num_train = 50\n",
        "small_data = {\n",
        "  'X_train': data['X_train'][:num_train],\n",
        "  'y_train': data['y_train'][:num_train],\n",
        "  'X_val': data['X_val'],\n",
        "  'y_val': data['y_val'],\n",
        "}\n",
        "\n",
        "#############################################################\n",
        "# tweaking just the learning rate and initialization scale.\n",
        "#############################################################\n",
        "\n",
        "weight_scale = 1e-1\n",
        "learning_rate = 1e-3\n",
        "\n",
        "#############################################################\n",
        "#                 end of your tweaking                      #\n",
        "#############################################################\n",
        "\n",
        "model = FullyConnectedNet(\n",
        "    [100, 100, 100, 100],\n",
        "    weight_scale=weight_scale, \n",
        "    dtype=np.float64\n",
        ")\n",
        "\n",
        "solver = Solver(\n",
        "    model, small_data,\n",
        "    print_every=10, num_epochs=20, batch_size=25,\n",
        "    update_rule='sgd',\n",
        "    optim_config={'learning_rate': learning_rate,}\n",
        ")\n",
        "solver.train()\n",
        "\n",
        "plt.plot(solver.loss_history, 'o')\n",
        "plt.title('Training loss history')\n",
        "plt.xlabel('Iteration')\n",
        "plt.ylabel('Training loss')\n",
        "plt.show()"
      ]
    },
    {
      "cell_type": "markdown",
      "metadata": {
        "id": "PSEHC0NINj31"
      },
      "source": [
        "<font size='4' color='red'>**Inline Question 1.11 (1 points):** \n",
        "    \n",
        "<font size='4' color='red'>**Did you notice anything about the comparative difficulty of training the three-layer net vs training the five layer net? In particular, based on your experience, which network seemed more sensitive to the initialization scale? Why do you think that is the case?**"
      ]
    },
    {
      "cell_type": "markdown",
      "metadata": {
        "id": "daDBxhZ1Nj31"
      },
      "source": [
        "<font size='4'>**Answer:**\n",
        "\n",
        "The three-layer network outperforms the five-layer network. The weight scale should be larger for the five layer net than for the three layer net because the five-layer network is deeper and hence, the weights of the five layer net have a higher possibility of vanishing to zero.\n"
      ]
    },
    {
      "cell_type": "markdown",
      "metadata": {
        "id": "yZkNeVsDNj31"
      },
      "source": [
        "<font size='4' color='red'>**Task 1.12: SGD+Momentum (2 points)**\n",
        "    \n",
        "<font size='4'>Stochastic gradient descent with momentum is a widely used update rule that tends to make deep networks converge faster than vanilla stochastic gradient descent.\n",
        "\n",
        "<font size='4'>Open the file `pa1_code/utils/optim.py` and read the documentation at the top of the file to make sure you understand the API. Implement the SGD+momentum update rule below and run the following to check your implementation. You should see errors less than 1e-8."
      ]
    },
    {
      "cell_type": "code",
      "execution_count": 24,
      "metadata": {
        "id": "xgW1iBXRNj31"
      },
      "outputs": [],
      "source": [
        "def sgd_momentum(w, dw, config=None):\n",
        "    \"\"\"\n",
        "    Performs stochastic gradient descent with momentum.\n",
        "\n",
        "    config format:\n",
        "    - learning_rate: Scalar learning rate.\n",
        "    - momentum: Scalar between 0 and 1 giving the momentum value.\n",
        "      Setting momentum = 0 reduces to sgd.\n",
        "    - velocity: A numpy array of the same shape as w and dw used to store a\n",
        "      moving average of the gradients.\n",
        "    \"\"\"\n",
        "    if config is None: config = {}\n",
        "    config.setdefault('learning_rate', 1e-2)\n",
        "    config.setdefault('momentum', 0.9)\n",
        "    v = config.get('velocity', np.zeros_like(w))\n",
        "\n",
        "    next_w = None\n",
        "    ###########################################################################\n",
        "    # TODO: Implement the momentum update formula. Store the updated value in #\n",
        "    # the next_w variable. You should also use and update the velocity v.     #\n",
        "    ###########################################################################\n",
        "    \n",
        "    next_v = config['momentum'] * v - config['learning_rate'] * dw\n",
        "    next_w = w + next_v\n",
        "\n",
        "    ###########################################################################\n",
        "    #                             END OF YOUR CODE                            #\n",
        "    ###########################################################################\n",
        "    config['velocity'] = next_v\n",
        "\n",
        "    return next_w, config"
      ]
    },
    {
      "cell_type": "code",
      "execution_count": 25,
      "metadata": {
        "id": "11hocin2Nj32",
        "outputId": "77f767e3-096f-4d82-d039-0e553566674b",
        "colab": {
          "base_uri": "https://localhost:8080/"
        }
      },
      "outputs": [
        {
          "output_type": "stream",
          "name": "stdout",
          "text": [
            "next_w error:  8.882347033505819e-09\n",
            "velocity error:  4.269287743278663e-09\n"
          ]
        }
      ],
      "source": [
        "# Let's check your implementation\n",
        "N, D = 4, 5\n",
        "w = np.linspace(-0.4, 0.6, num=N*D).reshape(N, D)\n",
        "dw = np.linspace(-0.6, 0.4, num=N*D).reshape(N, D)\n",
        "v = np.linspace(0.6, 0.9, num=N*D).reshape(N, D)\n",
        "\n",
        "config = {'learning_rate': 1e-3, 'velocity': v}\n",
        "next_w, _ = sgd_momentum(w, dw, config=config)\n",
        "\n",
        "expected_next_w = np.asarray([\n",
        "  [ 0.1406,      0.20738947,  0.27417895,  0.34096842,  0.40775789],\n",
        "  [ 0.47454737,  0.54133684,  0.60812632,  0.67491579,  0.74170526],\n",
        "  [ 0.80849474,  0.87528421,  0.94207368,  1.00886316,  1.07565263],\n",
        "  [ 1.14244211,  1.20923158,  1.27602105,  1.34281053,  1.4096    ]])\n",
        "expected_velocity = np.asarray([\n",
        "  [ 0.5406,      0.55475789,  0.56891579, 0.58307368,  0.59723158],\n",
        "  [ 0.61138947,  0.62554737,  0.63970526,  0.65386316,  0.66802105],\n",
        "  [ 0.68217895,  0.69633684,  0.71049474,  0.72465263,  0.73881053],\n",
        "  [ 0.75296842,  0.76712632,  0.78128421,  0.79544211,  0.8096    ]])\n",
        "\n",
        "# Should see relative errors around e-8 or less\n",
        "print('next_w error: ', rel_error(next_w, expected_next_w))\n",
        "print('velocity error: ', rel_error(expected_velocity, config['velocity']))"
      ]
    },
    {
      "cell_type": "code",
      "execution_count": 26,
      "metadata": {
        "scrolled": false,
        "id": "hXBfP6-DNj32",
        "outputId": "66d06388-61df-4c2c-99e6-396c02033394",
        "colab": {
          "base_uri": "https://localhost:8080/",
          "height": 1000
        }
      },
      "outputs": [
        {
          "output_type": "stream",
          "name": "stdout",
          "text": [
            "running with  sgd\n",
            "(Iteration 1 / 200) loss: 2.559978\n",
            "(Epoch 0 / 5) train acc: 0.103000; val_acc: 0.108000\n",
            "(Iteration 11 / 200) loss: 2.291086\n",
            "(Iteration 21 / 200) loss: 2.153591\n",
            "(Iteration 31 / 200) loss: 2.082693\n",
            "(Epoch 1 / 5) train acc: 0.277000; val_acc: 0.242000\n",
            "(Iteration 41 / 200) loss: 2.004171\n",
            "(Iteration 51 / 200) loss: 2.010409\n",
            "(Iteration 61 / 200) loss: 2.023753\n",
            "(Iteration 71 / 200) loss: 2.026621\n",
            "(Epoch 2 / 5) train acc: 0.352000; val_acc: 0.312000\n",
            "(Iteration 81 / 200) loss: 1.807163\n",
            "(Iteration 91 / 200) loss: 1.914256\n",
            "(Iteration 101 / 200) loss: 1.917176\n",
            "(Iteration 111 / 200) loss: 1.706193\n",
            "(Epoch 3 / 5) train acc: 0.405000; val_acc: 0.322000\n",
            "(Iteration 121 / 200) loss: 1.697994\n",
            "(Iteration 131 / 200) loss: 1.768837\n",
            "(Iteration 141 / 200) loss: 1.784967\n",
            "(Iteration 151 / 200) loss: 1.823291\n",
            "(Epoch 4 / 5) train acc: 0.431000; val_acc: 0.324000\n",
            "(Iteration 161 / 200) loss: 1.626499\n",
            "(Iteration 171 / 200) loss: 1.901366\n",
            "(Iteration 181 / 200) loss: 1.550534\n",
            "(Iteration 191 / 200) loss: 1.716921\n",
            "(Epoch 5 / 5) train acc: 0.436000; val_acc: 0.330000\n",
            "\n",
            "running with  sgd_momentum\n",
            "(Iteration 1 / 200) loss: 3.153778\n",
            "(Epoch 0 / 5) train acc: 0.105000; val_acc: 0.093000\n",
            "(Iteration 11 / 200) loss: 2.145874\n",
            "(Iteration 21 / 200) loss: 2.032562\n",
            "(Iteration 31 / 200) loss: 1.985848\n",
            "(Epoch 1 / 5) train acc: 0.311000; val_acc: 0.281000\n",
            "(Iteration 41 / 200) loss: 1.882353\n",
            "(Iteration 51 / 200) loss: 1.855372\n",
            "(Iteration 61 / 200) loss: 1.649133\n",
            "(Iteration 71 / 200) loss: 1.806432\n",
            "(Epoch 2 / 5) train acc: 0.415000; val_acc: 0.324000\n",
            "(Iteration 81 / 200) loss: 1.907840\n",
            "(Iteration 91 / 200) loss: 1.510681\n",
            "(Iteration 101 / 200) loss: 1.546872\n",
            "(Iteration 111 / 200) loss: 1.512047\n",
            "(Epoch 3 / 5) train acc: 0.434000; val_acc: 0.321000\n",
            "(Iteration 121 / 200) loss: 1.677301\n",
            "(Iteration 131 / 200) loss: 1.504686\n",
            "(Iteration 141 / 200) loss: 1.633253\n",
            "(Iteration 151 / 200) loss: 1.745081\n",
            "(Epoch 4 / 5) train acc: 0.460000; val_acc: 0.353000\n",
            "(Iteration 161 / 200) loss: 1.485411\n",
            "(Iteration 171 / 200) loss: 1.610417\n",
            "(Iteration 181 / 200) loss: 1.528331\n",
            "(Iteration 191 / 200) loss: 1.449158\n",
            "(Epoch 5 / 5) train acc: 0.507000; val_acc: 0.384000\n",
            "\n"
          ]
        },
        {
          "output_type": "stream",
          "name": "stderr",
          "text": [
            "/usr/local/lib/python3.7/dist-packages/ipykernel_launcher.py:44: MatplotlibDeprecationWarning: Adding an axes using the same arguments as a previous axes currently reuses the earlier instance.  In a future version, a new instance will always be created and returned.  Meanwhile, this warning can be suppressed, and the future behavior ensured, by passing a unique label to each axes instance.\n",
            "/usr/local/lib/python3.7/dist-packages/ipykernel_launcher.py:47: MatplotlibDeprecationWarning: Adding an axes using the same arguments as a previous axes currently reuses the earlier instance.  In a future version, a new instance will always be created and returned.  Meanwhile, this warning can be suppressed, and the future behavior ensured, by passing a unique label to each axes instance.\n",
            "/usr/local/lib/python3.7/dist-packages/ipykernel_launcher.py:50: MatplotlibDeprecationWarning: Adding an axes using the same arguments as a previous axes currently reuses the earlier instance.  In a future version, a new instance will always be created and returned.  Meanwhile, this warning can be suppressed, and the future behavior ensured, by passing a unique label to each axes instance.\n",
            "/usr/local/lib/python3.7/dist-packages/ipykernel_launcher.py:54: MatplotlibDeprecationWarning: Adding an axes using the same arguments as a previous axes currently reuses the earlier instance.  In a future version, a new instance will always be created and returned.  Meanwhile, this warning can be suppressed, and the future behavior ensured, by passing a unique label to each axes instance.\n"
          ]
        },
        {
          "output_type": "display_data",
          "data": {
            "image/png": "[encoded data removed]",
            "text/plain": [
              "<Figure size 1080x1080 with 3 Axes>"
            ]
          },
          "metadata": {
            "needs_background": "light"
          }
        }
      ],
      "source": [
        "# Run the following to train a six-layer network with both SGD and SGD+momentum. \n",
        "# You should see the SGD+momentum update rule converge faster.\n",
        "from utils.solver import Solver\n",
        "\n",
        "num_train = 4000\n",
        "small_data = {\n",
        "  'X_train': data['X_train'][:num_train],\n",
        "  'y_train': data['y_train'][:num_train],\n",
        "  'X_val': data['X_val'],\n",
        "  'y_val': data['y_val'],\n",
        "}\n",
        "\n",
        "solvers = {}\n",
        "\n",
        "for update_rule in ['sgd', 'sgd_momentum']:\n",
        "    print('running with ', update_rule)\n",
        "    model = FullyConnectedNet([100, 100, 100, 100, 100], weight_scale=5e-2)\n",
        "\n",
        "    solver = Solver(\n",
        "        model, small_data,\n",
        "        num_epochs=5, batch_size=100,\n",
        "        update_rule=update_rule if update_rule == 'sgd' else sgd_momentum,\n",
        "        optim_config={'learning_rate': 1e-2,},\n",
        "        verbose=True\n",
        "    )\n",
        "\n",
        "    solvers[update_rule] = solver\n",
        "    solver.train()\n",
        "    print()\n",
        "\n",
        "plt.subplot(3, 1, 1)\n",
        "plt.title('Training loss')\n",
        "plt.xlabel('Iteration')\n",
        "\n",
        "plt.subplot(3, 1, 2)\n",
        "plt.title('Training accuracy')\n",
        "plt.xlabel('Epoch')\n",
        "\n",
        "plt.subplot(3, 1, 3)\n",
        "plt.title('Validation accuracy')\n",
        "plt.xlabel('Epoch')\n",
        "\n",
        "for update_rule, solver in list(solvers.items()):\n",
        "    plt.subplot(3, 1, 1)\n",
        "    plt.plot(solver.loss_history, 'o', label=update_rule)\n",
        "\n",
        "    plt.subplot(3, 1, 2)\n",
        "    plt.plot(solver.train_acc_history, '-o', label=update_rule)\n",
        "\n",
        "    plt.subplot(3, 1, 3)\n",
        "    plt.plot(solver.val_acc_history, '-o', label=update_rule)\n",
        "  \n",
        "for i in [1, 2, 3]:\n",
        "    plt.subplot(3, 1, i)\n",
        "    plt.legend(loc='upper center', ncol=4)\n",
        "plt.gcf().set_size_inches(15, 15)\n",
        "plt.show()"
      ]
    },
    {
      "cell_type": "markdown",
      "metadata": {
        "id": "gP2MhBZMNj32"
      },
      "source": [
        "<font size='4' color='red'>**Task 1.13: Train a good model! (3 points)**\n",
        "    \n",
        "<font size='4'>Train the best fully-connected model that you can on CIFAR-10, storing your best model in the `best_model` variable. <font color='red'>We require you to get at least 50% accuracy on the validation set using a fully-connected net within 50 epochs.\n",
        "\n",
        "<font size='4'>If you are careful it should be possible to get accuracies above 55%, but we don't require it for this part and won't assign extra credit for doing so. "
      ]
    },
    {
      "cell_type": "code",
      "execution_count": null,
      "metadata": {
        "scrolled": false,
        "id": "CDGzZZOqNj33",
        "outputId": "bc7e8373-ed67-40e5-96a4-3a15d7831287",
        "colab": {
          "base_uri": "https://localhost:8080/"
        }
      },
      "outputs": [
        {
          "output_type": "stream",
          "name": "stdout",
          "text": [
            "(Iteration 1 / 7350) loss: 3.099179\n",
            "(Epoch 0 / 15) train acc: 0.092000; val_acc: 0.099000\n",
            "(Iteration 101 / 7350) loss: 1.822871\n",
            "(Iteration 201 / 7350) loss: 1.663057\n",
            "(Iteration 301 / 7350) loss: 1.658151\n",
            "(Iteration 401 / 7350) loss: 1.640918\n",
            "(Epoch 1 / 15) train acc: 0.430000; val_acc: 0.417000\n",
            "(Iteration 501 / 7350) loss: 1.560642\n",
            "(Iteration 601 / 7350) loss: 1.592737\n",
            "(Iteration 701 / 7350) loss: 1.679790\n",
            "(Iteration 801 / 7350) loss: 1.667535\n",
            "(Iteration 901 / 7350) loss: 1.553412\n",
            "(Epoch 2 / 15) train acc: 0.420000; val_acc: 0.428000\n",
            "(Iteration 1001 / 7350) loss: 1.678234\n",
            "(Iteration 1101 / 7350) loss: 1.459753\n",
            "(Iteration 1201 / 7350) loss: 1.343129\n",
            "(Iteration 1301 / 7350) loss: 1.616111\n",
            "(Iteration 1401 / 7350) loss: 1.525695\n",
            "(Epoch 3 / 15) train acc: 0.478000; val_acc: 0.449000\n",
            "(Iteration 1501 / 7350) loss: 1.412420\n",
            "(Iteration 1601 / 7350) loss: 1.589789\n",
            "(Iteration 1701 / 7350) loss: 1.412538\n",
            "(Iteration 1801 / 7350) loss: 1.390521\n",
            "(Iteration 1901 / 7350) loss: 1.429916\n",
            "(Epoch 4 / 15) train acc: 0.486000; val_acc: 0.481000\n",
            "(Iteration 2001 / 7350) loss: 1.323646\n",
            "(Iteration 2101 / 7350) loss: 1.601478\n",
            "(Iteration 2201 / 7350) loss: 1.492911\n",
            "(Iteration 2301 / 7350) loss: 1.393834\n",
            "(Iteration 2401 / 7350) loss: 1.358499\n",
            "(Epoch 5 / 15) train acc: 0.498000; val_acc: 0.471000\n",
            "(Iteration 2501 / 7350) loss: 1.346410\n",
            "(Iteration 2601 / 7350) loss: 1.324251\n",
            "(Iteration 2701 / 7350) loss: 1.521387\n",
            "(Iteration 2801 / 7350) loss: 1.519510\n",
            "(Iteration 2901 / 7350) loss: 1.329695\n",
            "(Epoch 6 / 15) train acc: 0.536000; val_acc: 0.492000\n",
            "(Iteration 3001 / 7350) loss: 1.152315\n",
            "(Iteration 3101 / 7350) loss: 1.597595\n",
            "(Iteration 3201 / 7350) loss: 1.339094\n",
            "(Iteration 3301 / 7350) loss: 1.510456\n",
            "(Iteration 3401 / 7350) loss: 1.267154\n",
            "(Epoch 7 / 15) train acc: 0.534000; val_acc: 0.486000\n",
            "(Iteration 3501 / 7350) loss: 1.201048\n",
            "(Iteration 3601 / 7350) loss: 1.335818\n",
            "(Iteration 3701 / 7350) loss: 1.441408\n",
            "(Iteration 3801 / 7350) loss: 1.289741\n",
            "(Iteration 3901 / 7350) loss: 1.211462\n",
            "(Epoch 8 / 15) train acc: 0.531000; val_acc: 0.477000\n",
            "(Iteration 4001 / 7350) loss: 1.380324\n",
            "(Iteration 4101 / 7350) loss: 1.290118\n",
            "(Iteration 4201 / 7350) loss: 1.345898\n",
            "(Iteration 4301 / 7350) loss: 1.378354\n",
            "(Iteration 4401 / 7350) loss: 1.409860\n",
            "(Epoch 9 / 15) train acc: 0.534000; val_acc: 0.479000\n",
            "(Iteration 4501 / 7350) loss: 1.320134\n",
            "(Iteration 4601 / 7350) loss: 1.356572\n",
            "(Iteration 4701 / 7350) loss: 1.356470\n",
            "(Iteration 4801 / 7350) loss: 1.245481\n",
            "(Epoch 10 / 15) train acc: 0.554000; val_acc: 0.485000\n",
            "(Iteration 4901 / 7350) loss: 1.243027\n",
            "(Iteration 5001 / 7350) loss: 1.286351\n",
            "(Iteration 5101 / 7350) loss: 1.181056\n",
            "(Iteration 5201 / 7350) loss: 1.424635\n",
            "(Iteration 5301 / 7350) loss: 1.345850\n",
            "(Epoch 11 / 15) train acc: 0.555000; val_acc: 0.467000\n",
            "(Iteration 5401 / 7350) loss: 1.470354\n",
            "(Iteration 5501 / 7350) loss: 1.343538\n",
            "(Iteration 5601 / 7350) loss: 1.125528\n",
            "(Iteration 5701 / 7350) loss: 1.360122\n",
            "(Iteration 5801 / 7350) loss: 1.265435\n",
            "(Epoch 12 / 15) train acc: 0.565000; val_acc: 0.509000\n",
            "(Iteration 5901 / 7350) loss: 1.184779\n",
            "(Iteration 6001 / 7350) loss: 1.299342\n",
            "(Iteration 6101 / 7350) loss: 1.313359\n",
            "(Iteration 6201 / 7350) loss: 1.360922\n",
            "(Iteration 6301 / 7350) loss: 1.137235\n",
            "(Epoch 13 / 15) train acc: 0.565000; val_acc: 0.481000\n",
            "(Iteration 6401 / 7350) loss: 1.430709\n",
            "(Iteration 6501 / 7350) loss: 1.256193\n",
            "(Iteration 6601 / 7350) loss: 1.382460\n",
            "(Iteration 6701 / 7350) loss: 1.226164\n",
            "(Iteration 6801 / 7350) loss: 1.165256\n",
            "(Epoch 14 / 15) train acc: 0.581000; val_acc: 0.494000\n",
            "(Iteration 6901 / 7350) loss: 1.368362\n",
            "(Iteration 7001 / 7350) loss: 1.139798\n",
            "(Iteration 7101 / 7350) loss: 1.075914\n",
            "(Iteration 7201 / 7350) loss: 1.218812\n",
            "(Iteration 7301 / 7350) loss: 1.110524\n",
            "(Epoch 15 / 15) train acc: 0.559000; val_acc: 0.499000\n"
          ]
        }
      ],
      "source": [
        "best_model = None\n",
        "################################################################################\n",
        "# TODO: Train the best FullyConnectedNet that you can on CIFAR-10. You might   #\n",
        "# find batch/layer normalization and dropout useful. Store your best model in  #\n",
        "# the best_model variable.                                                     #\n",
        "################################################################################\n",
        "best_model = FullyConnectedNet(\n",
        "        [100, 100, 100, 100, 100], \n",
        "        weight_scale=5e-2, \n",
        "        dtype=np.float64,\n",
        "        seed=123\n",
        "    )\n",
        "\n",
        "solver = Solver(\n",
        "    best_model, data,\n",
        "    print_every=100, num_epochs=15, batch_size=100,\n",
        "    update_rule= sgd_momentum,\n",
        "    optim_config={'learning_rate': 1e-2}\n",
        ")\n",
        "solver.train()\n",
        "\n",
        "\n",
        "################################################################################\n",
        "#                              END OF YOUR CODE                                #\n",
        "################################################################################"
      ]
    },
    {
      "cell_type": "code",
      "execution_count": null,
      "metadata": {
        "id": "reu2zPz7Nj33",
        "outputId": "7f934256-1931-4716-a110-c29cdc9ab44d",
        "colab": {
          "base_uri": "https://localhost:8080/"
        }
      },
      "outputs": [
        {
          "output_type": "stream",
          "name": "stdout",
          "text": [
            "Validation set accuracy:  0.509\n",
            "Test set accuracy:  0.481\n"
          ]
        }
      ],
      "source": [
        "# Run your best model on the validation and test sets. You should achieve above 50% accuracy on the validation set.\n",
        "y_test_pred = np.argmax(best_model.loss(data['X_test']), axis=1)\n",
        "y_val_pred = np.argmax(best_model.loss(data['X_val']), axis=1)\n",
        "print('Validation set accuracy: ', (y_val_pred == data['y_val']).mean())\n",
        "print('Test set accuracy: ', (y_test_pred == data['y_test']).mean())"
      ]
    },
    {
      "cell_type": "markdown",
      "metadata": {
        "id": "2BZIi50gNj33"
      },
      "source": [
        "## Part 2: Convolutional Neural Network (60 points)"
      ]
    },
    {
      "cell_type": "markdown",
      "metadata": {
        "id": "4Bjuk8tbNj33"
      },
      "source": [
        "### Part 2.1: Convolution layers"
      ]
    },
    {
      "cell_type": "markdown",
      "metadata": {
        "id": "P2wKtomUNj33"
      },
      "source": [
        "<font size=\"4\" color=\"red\">**task 2.1: forward pass of a convolution layer with 2 for loops at most (6 points)**"
      ]
    },
    {
      "cell_type": "code",
      "execution_count": 27,
      "metadata": {
        "id": "2Mt-aDLJNj34"
      },
      "outputs": [],
      "source": [
        "def conv_forward_naive(x, w, b, conv_param):\n",
        "    \"\"\"\n",
        "    A naive implementation of the forward pass for a convolutional layer.\n",
        "\n",
        "    The input consists of N data points, each with C channels, height H and\n",
        "    width W. We convolve each input with F different filters, where each filter\n",
        "    spans all C channels and has height HH and width WW.\n",
        "\n",
        "    Input:\n",
        "    - x: Input data of shape (N, C, H, W)\n",
        "    - w: Filter weights of shape (F, C, HH, WW)\n",
        "    - b: Biases, of shape (F,)\n",
        "    - conv_param: A dictionary with the following keys:\n",
        "      - 'stride': The number of pixels between adjacent receptive fields in the\n",
        "        horizontal and vertical directions.\n",
        "      - 'pad': The number of pixels that will be used to zero-pad the input.\n",
        "\n",
        "\n",
        "    During padding, 'pad' zeros should be placed symmetrically (i.e equally on both sides)\n",
        "    along the height and width axes of the input. Be careful not to modfiy the original\n",
        "    input x directly.\n",
        "\n",
        "    Returns a tuple of:\n",
        "    - out: Output data, of shape (N, F, H', W') where H' and W' are given by\n",
        "      H' = 1 + (H + 2 * pad - HH) / stride\n",
        "      W' = 1 + (W + 2 * pad - WW) / stride\n",
        "    - cache: (x, w, b, conv_param)\n",
        "    \"\"\"\n",
        "    out = None\n",
        "    \n",
        "    ###########################################################################\n",
        "    # TODO: Implement the convolutional forward pass.                         #\n",
        "    # Hint: you can use the function np.pad for padding.                      #\n",
        "    ###########################################################################\n",
        "    \n",
        "    N, C, H, W = x.shape\n",
        "    F, C, HH, WW = w.shape\n",
        "    stride = conv_param['stride']\n",
        "    pad = conv_param['pad']\n",
        "\n",
        "    # Add padding to each image\n",
        "    x_pad = np.pad(x, ((0,0), (0,0), (pad,pad), (pad,pad)), 'constant')\n",
        "    \n",
        "    # Size of the output\n",
        "    Hout = int(1 + (H + 2 * pad - HH) / stride)\n",
        "    Wout = int(1 + (W + 2 * pad - WW) / stride)\n",
        "\n",
        "    out = np.zeros((N, F, Hout, Wout))\n",
        "\n",
        "    for i in range(Hout):\n",
        "        for j in range(Wout):\n",
        "            s1 = i * stride\n",
        "            s2 = j * stride\n",
        "            temp = x_pad[:, None, :, s1:s1 + HH, s2:s2 + WW] * w\n",
        "            temp = np.sum(temp, axis=(2,3,4)) + b\n",
        "            out[:,:,i,j] = temp\n",
        "    ###########################################################################\n",
        "    #                             END OF YOUR CODE                            #\n",
        "    ###########################################################################\n",
        "    \n",
        "    cache = (x, w, b, conv_param)\n",
        "    return out, cache"
      ]
    },
    {
      "cell_type": "code",
      "execution_count": 28,
      "metadata": {
        "id": "Rj4cNp1iNj34",
        "outputId": "18759ea0-463f-4ee9-f442-19b8a3b557f4",
        "colab": {
          "base_uri": "https://localhost:8080/"
        }
      },
      "outputs": [
        {
          "output_type": "stream",
          "name": "stdout",
          "text": [
            "Testing conv_forward_naive\n",
            "difference:  2.2121476417505994e-08\n"
          ]
        }
      ],
      "source": [
        "# check your forward pass implementation\n",
        "x_shape = (2, 3, 4, 4)\n",
        "w_shape = (3, 3, 4, 4)\n",
        "x = np.linspace(-0.1, 0.5, num=np.prod(x_shape)).reshape(x_shape)\n",
        "w = np.linspace(-0.2, 0.3, num=np.prod(w_shape)).reshape(w_shape)\n",
        "b = np.linspace(-0.1, 0.2, num=3)\n",
        "\n",
        "conv_param = {'stride': 2, 'pad': 1}\n",
        "out, _ = conv_forward_naive(x, w, b, conv_param)\n",
        "correct_out = np.array([[[[-0.08759809, -0.10987781],\n",
        "                           [-0.18387192, -0.2109216 ]],\n",
        "                          [[ 0.21027089,  0.21661097],\n",
        "                           [ 0.22847626,  0.23004637]],\n",
        "                          [[ 0.50813986,  0.54309974],\n",
        "                           [ 0.64082444,  0.67101435]]],\n",
        "                         [[[-0.98053589, -1.03143541],\n",
        "                           [-1.19128892, -1.24695841]],\n",
        "                          [[ 0.69108355,  0.66880383],\n",
        "                           [ 0.59480972,  0.56776003]],\n",
        "                          [[ 2.36270298,  2.36904306],\n",
        "                           [ 2.38090835,  2.38247847]]]])\n",
        "\n",
        "# Compare your output to ours; difference should be around e-8\n",
        "print('Testing conv_forward_naive')\n",
        "print('difference: ', rel_error(out, correct_out))"
      ]
    },
    {
      "cell_type": "markdown",
      "metadata": {
        "id": "S-NoMTm4Nj34"
      },
      "source": [
        "<font size=\"4\" color=\"red\">**task 2.2: backward pass of a convolution layer with 2 for loops at most (6 points)**"
      ]
    },
    {
      "cell_type": "code",
      "execution_count": 29,
      "metadata": {
        "id": "NhnHzqeqNj34"
      },
      "outputs": [],
      "source": [
        "def conv_backward_naive(dout, cache):\n",
        "    \"\"\"\n",
        "    A naive implementation of the backward pass for a convolutional layer.\n",
        "\n",
        "    Inputs:\n",
        "    - dout: Upstream derivatives.\n",
        "    - cache: A tuple of (x, w, b, conv_param) as in conv_forward_naive\n",
        "\n",
        "    Returns a tuple of:\n",
        "    - dx: Gradient with respect to x\n",
        "    - dw: Gradient with respect to w\n",
        "    - db: Gradient with respect to b\n",
        "    \"\"\"\n",
        "    dx, dw, db = None, None, None\n",
        "    \n",
        "    ###########################################################################\n",
        "    # TODO: Implement the convolutional backward pass.                        #\n",
        "    ###########################################################################\n",
        "    \n",
        "    x, w, b, conv_param = cache\n",
        "    N, C, H, W = x.shape\n",
        "    F, C, HH, WW = w.shape\n",
        "    N, F, Hout, Wout = dout.shape\n",
        "    S = conv_param['stride']\n",
        "    P = conv_param['pad']\n",
        "\n",
        "    Hout = int(1 + (H + 2 * P - HH) / S)\n",
        "    Wout = int(1 + (W + 2 * P - WW) / S)\n",
        "\n",
        "    x_pad = np.pad(x, ((0,), (0,), (P,), (P,)), 'constant')\n",
        "    dx_pad = np.zeros((N, C, H + 2 * P, W + 2 * P))\n",
        "  \n",
        "    dw = np.zeros((F, C, HH, WW))\n",
        "    db = np.zeros((F))\n",
        "\n",
        "    for i in range(Hout):\n",
        "      for j in range(Wout):\n",
        "        s1 = i * S\n",
        "        s2 = j * S\n",
        "        d_temp = dout[:,:,i,j]\n",
        "        db += np.sum(d_temp, axis=0)\n",
        "        dw += np.sum(x_pad[:,None,:,s1:s1+HH,s2:s2+WW] * d_temp[:,:,None,None,None], axis=0)\n",
        "        dx_pad[:,:, s1:s1+HH, s2:s2+WW] += np.sum(w * d_temp[:,:,None,None,None], axis=1)\n",
        "    if P > 0:\n",
        "      dx = dx_pad[:,:,P:-P,P:-P]\n",
        "    else:\n",
        "      dx = dx_pad\n",
        "\n",
        "    ###########################################################################\n",
        "    #                             END OF YOUR CODE                            #\n",
        "    ###########################################################################\n",
        "    \n",
        "    return dx, dw, db"
      ]
    },
    {
      "cell_type": "code",
      "execution_count": 30,
      "metadata": {
        "id": "bo0hgIocNj35",
        "outputId": "a014a01b-944d-4f97-b20b-c345ae55703f",
        "colab": {
          "base_uri": "https://localhost:8080/"
        }
      },
      "outputs": [
        {
          "output_type": "stream",
          "name": "stdout",
          "text": [
            "Testing conv_backward_naive function\n",
            "dx error:  1.159803161159293e-08\n",
            "dw error:  2.247109434939654e-10\n",
            "db error:  3.37268324007874e-11\n"
          ]
        }
      ],
      "source": [
        "# gradient check\n",
        "np.random.seed(231)\n",
        "x = np.random.randn(4, 3, 5, 5)\n",
        "w = np.random.randn(2, 3, 3, 3)\n",
        "b = np.random.randn(2,)\n",
        "dout = np.random.randn(4, 2, 5, 5)\n",
        "conv_param = {'stride': 1, 'pad': 1}\n",
        "\n",
        "dx_num = eval_numerical_gradient_array(lambda x: conv_forward_naive(x, w, b, conv_param)[0], x, dout)\n",
        "dw_num = eval_numerical_gradient_array(lambda w: conv_forward_naive(x, w, b, conv_param)[0], w, dout)\n",
        "db_num = eval_numerical_gradient_array(lambda b: conv_forward_naive(x, w, b, conv_param)[0], b, dout)\n",
        "\n",
        "out, cache = conv_forward_naive(x, w, b, conv_param)\n",
        "dx, dw, db = conv_backward_naive(dout, cache)\n",
        "\n",
        "# Your errors should be around e-8 or less.\n",
        "print('Testing conv_backward_naive function')\n",
        "print('dx error: ', rel_error(dx, dx_num))\n",
        "print('dw error: ', rel_error(dw, dw_num))\n",
        "print('db error: ', rel_error(db, db_num))"
      ]
    },
    {
      "cell_type": "markdown",
      "metadata": {
        "id": "IveujnpHNj35"
      },
      "source": [
        "### Part 2.2: Spatial Batch Normalization (22 points)\n",
        "<font size='4'>Batch normalization is a very useful technique for training deep neural networks. As proposed in the original paper [1], batch normalization can also be used for convolutional networks, but we need to tweak it a bit; the modification will be called \"spatial batch normalization.\"\n",
        "\n",
        "<font size='4'>Normally batch-normalization accepts inputs of shape `(N, D)` and produces outputs of shape `(N, D)`, where we normalize across the minibatch dimension `N`. For data coming from convolutional layers, batch normalization needs to accept inputs of shape `(N, C, H, W)` and produce outputs of shape `(N, C, H, W)` where the `N` dimension gives the minibatch size and the `(H, W)` dimensions give the spatial size of the feature map.\n",
        "\n",
        "<font size='4'>If the feature map was produced using convolutions, then we expect the statistics of each feature channel to be relatively consistent both between different imagesand different locations within the same image. Therefore spatial batch normalization computes a mean and variance for each of the `C` feature channels by computing statistics over both the minibatch dimension `N` and the spatial dimensions `H` and `W`.\n",
        "\n",
        "\n",
        "[1] [Sergey Ioffe and Christian Szegedy, \"Batch Normalization: Accelerating Deep Network Training by Reducing\n",
        "Internal Covariate Shift\", ICML 2015.](https://arxiv.org/abs/1502.03167)"
      ]
    },
    {
      "cell_type": "markdown",
      "metadata": {
        "id": "nc05jaOWNj35"
      },
      "source": [
        "<font size='4' color='red'>**Task 2.3: forward pass of a (normal) batch norm layer (6 points).**"
      ]
    },
    {
      "cell_type": "code",
      "execution_count": 32,
      "metadata": {
        "id": "LC1xVRi4Nj35"
      },
      "outputs": [],
      "source": [
        "def batchnorm_forward(x, gamma, beta, bn_param):\n",
        "    \"\"\"\n",
        "    Forward pass for batch normalization.\n",
        "\n",
        "    During training the sample mean and (uncorrected) sample variance are\n",
        "    computed from minibatch statistics and used to normalize the incoming data.\n",
        "    During training we also keep an exponentially decaying running mean of the\n",
        "    mean and variance of each feature, and these averages are used to normalize\n",
        "    data at test-time.\n",
        "\n",
        "    At each timestep we update the running averages for mean and variance using\n",
        "    an exponential decay based on the momentum parameter:\n",
        "\n",
        "    running_mean = momentum * running_mean + (1 - momentum) * sample_mean\n",
        "    running_var = momentum * running_var + (1 - momentum) * sample_var\n",
        "\n",
        "    Note that the batch normalization paper suggests a different test-time\n",
        "    behavior: they compute sample mean and variance for each feature using a\n",
        "    large number of training images rather than using a running average. For\n",
        "    this implementation we have chosen to use running averages instead since\n",
        "    they do not require an additional estimation step; the torch7\n",
        "    implementation of batch normalization also uses running averages.\n",
        "\n",
        "    Input:\n",
        "    - x: Data of shape (N, D)\n",
        "    - gamma: Scale parameter of shape (D,)\n",
        "    - beta: Shift paremeter of shape (D,)\n",
        "    - bn_param: Dictionary with the following keys:\n",
        "      - mode: 'train' or 'test'; required\n",
        "      - eps: Constant for numeric stability\n",
        "      - momentum: Constant for running mean / variance.\n",
        "      - running_mean: Array of shape (D,) giving running mean of features\n",
        "      - running_var Array of shape (D,) giving running variance of features\n",
        "\n",
        "    Returns a tuple of:\n",
        "    - out: of shape (N, D)\n",
        "    - cache: A tuple of values needed in the backward pass\n",
        "    \"\"\"\n",
        "    mode = bn_param['mode']\n",
        "    eps = bn_param.get('eps', 1e-5)\n",
        "    momentum = bn_param.get('momentum', 0.9)\n",
        "\n",
        "    N, D = x.shape\n",
        "    running_mean = bn_param.get('running_mean', np.zeros(D, dtype=x.dtype))\n",
        "    running_var = bn_param.get('running_var', np.zeros(D, dtype=x.dtype))\n",
        "\n",
        "    out, cache = None, None\n",
        "    if mode == 'train':\n",
        "        #######################################################################\n",
        "        # TODO: Implement the training-time forward pass for batch norm.      #\n",
        "        # Use minibatch statistics to compute the mean and variance, use      #\n",
        "        # these statistics to normalize the incoming data, and scale and      #\n",
        "        # shift the normalized data using gamma and beta.                     #\n",
        "        #                                                                     #\n",
        "        # You should store the output in the variable out. Any intermediates  #\n",
        "        # that you need for the backward pass should be stored in the cache   #\n",
        "        # variable.                                                           #\n",
        "        #                                                                     #\n",
        "        # You should also use your computed sample mean and variance together #\n",
        "        # with the momentum variable to update the running mean and running   #\n",
        "        # variance, storing your result in the running_mean and running_var   #\n",
        "        # variables.                                                          #\n",
        "        #                                                                     #\n",
        "        # Note that though you should be keeping track of the running         #\n",
        "        # variance, you should normalize the data based on the standard       #\n",
        "        # deviation (square root of variance) instead!                        #\n",
        "        # Referencing the original paper (https://arxiv.org/abs/1502.03167)   #\n",
        "        # might prove to be helpful.                                          #\n",
        "        #######################################################################\n",
        "        \n",
        "        mean = np.mean(x, axis=0)\n",
        "        var = np.var(x, axis=0)\n",
        "        x_hat = (x - mean) / np.sqrt(var + eps)\n",
        "        out = gamma * x_hat + beta\n",
        "\n",
        "        cache = (x_hat, x, mean, var, gamma, beta, eps)\n",
        "        running_mean = momentum * running_mean + (1 - momentum) * mean\n",
        "        running_var = momentum * running_var + (1 - momentum) * var\n",
        "\n",
        "        #######################################################################\n",
        "        #                           END OF YOUR CODE                          #\n",
        "        #######################################################################\n",
        "\n",
        "    elif mode == 'test':\n",
        "        \n",
        "        #######################################################################\n",
        "        # TODO: Implement the test-time forward pass for batch normalization. #\n",
        "        # Use the running mean and variance to normalize the incoming data,   #\n",
        "        # then scale and shift the normalized data using gamma and beta.      #\n",
        "        # Store the result in the out variable.                               #\n",
        "        #######################################################################\n",
        "        \n",
        "        x_hat = (x - running_mean) / np.sqrt(running_var + eps)\n",
        "        out = gamma * x_hat + beta\n",
        "\n",
        "        #######################################################################\n",
        "        #                          END OF YOUR CODE                           #\n",
        "        #######################################################################\n",
        "    \n",
        "    else:\n",
        "        raise ValueError('Invalid forward batchnorm mode \"%s\"' % mode)\n",
        "\n",
        "    # Store the updated running means back into bn_param\n",
        "    bn_param['running_mean'] = running_mean\n",
        "    bn_param['running_var'] = running_var\n",
        "\n",
        "    return out, cache"
      ]
    },
    {
      "cell_type": "markdown",
      "metadata": {
        "id": "ttUg857GNj36"
      },
      "source": [
        "<font size='4' color='red'>**Task 2.4: forward pass of a spatial batch norm layer (3 points).**"
      ]
    },
    {
      "cell_type": "code",
      "execution_count": 33,
      "metadata": {
        "id": "VXWWCBpWNj36"
      },
      "outputs": [],
      "source": [
        "def spatial_batchnorm_forward(x, gamma, beta, bn_param):\n",
        "    \"\"\"\n",
        "    Computes the forward pass for spatial batch normalization.\n",
        "\n",
        "    Inputs:\n",
        "    - x: Input data of shape (N, C, H, W)\n",
        "    - gamma: Scale parameter, of shape (C,)\n",
        "    - beta: Shift parameter, of shape (C,)\n",
        "    - bn_param: Dictionary with the following keys:\n",
        "      - mode: 'train' or 'test'; required\n",
        "      - eps: Constant for numeric stability\n",
        "      - momentum: Constant for running mean / variance. momentum=0 means that\n",
        "        old information is discarded completely at every time step, while\n",
        "        momentum=1 means that new information is never incorporated. The\n",
        "        default of momentum=0.9 should work well in most situations.\n",
        "      - running_mean: Array of shape (D,) giving running mean of features\n",
        "      - running_var Array of shape (D,) giving running variance of features\n",
        "\n",
        "    Returns a tuple of:\n",
        "    - out: Output data, of shape (N, C, H, W)\n",
        "    - cache: Values needed for the backward pass\n",
        "    \"\"\"\n",
        "    out, cache = None, None\n",
        "\n",
        "    ###########################################################################\n",
        "    # TODO: Implement the forward pass for spatial batch normalization.       #\n",
        "    #                                                                         #\n",
        "    # HINT: You can implement spatial batch normalization by calling the      #\n",
        "    # vanilla version of batch normalization you implemented above.           #\n",
        "    # Your implementation should be very short; ours is less than five lines. #\n",
        "    ###########################################################################\n",
        "    \n",
        "    N, C, H, W = x.shape\n",
        "\n",
        "    # Reshape x to N*H*W * C to call batch normalization\n",
        "    x_new = np.reshape(np.transpose(x, (0, 2, 3, 1)), (-1, C))\n",
        "\n",
        "    out, cache = batchnorm_forward(x_new, gamma, beta, bn_param)\n",
        "    \n",
        "    # Reshape out to (N, C, H, W)\n",
        "    out = np.transpose(np.reshape(out, (N, H, W, C)), (0, 3, 1, 2))\n",
        "\n",
        "    ###########################################################################\n",
        "    #                             END OF YOUR CODE                            #\n",
        "    ##########################################################################\n",
        "\n",
        "    return out, cache"
      ]
    },
    {
      "cell_type": "code",
      "execution_count": 34,
      "metadata": {
        "id": "q1ALE0SDNj36",
        "outputId": "d7215579-8e82-40fd-c917-a71c3215d7c0",
        "colab": {
          "base_uri": "https://localhost:8080/"
        }
      },
      "outputs": [
        {
          "output_type": "stream",
          "name": "stdout",
          "text": [
            "Before spatial batch normalization:\n",
            "  Shape:  (2, 3, 4, 5)\n",
            "  Means:  [9.33463814 8.90909116 9.11056338]\n",
            "  Stds:  [3.61447857 3.19347686 3.5168142 ]\n",
            "After spatial batch normalization:\n",
            "  Shape:  (2, 3, 4, 5)\n",
            "  Means:  [ 6.18949336e-16  5.99520433e-16 -1.22124533e-16]\n",
            "  Stds:  [0.99999962 0.99999951 0.9999996 ]\n",
            "After spatial batch normalization (nontrivial gamma, beta):\n",
            "  Shape:  (2, 3, 4, 5)\n",
            "  Means:  [6. 7. 8.]\n",
            "  Stds:  [2.99999885 3.99999804 4.99999798]\n"
          ]
        }
      ],
      "source": [
        "np.random.seed(231)\n",
        "# Check the training-time forward pass by checking means and variances\n",
        "# of features both before and after spatial batch normalization\n",
        "\n",
        "N, C, H, W = 2, 3, 4, 5\n",
        "x = 4 * np.random.randn(N, C, H, W) + 10\n",
        "\n",
        "print('Before spatial batch normalization:')\n",
        "print('  Shape: ', x.shape)\n",
        "print('  Means: ', x.mean(axis=(0, 2, 3)))\n",
        "print('  Stds: ', x.std(axis=(0, 2, 3)))\n",
        "\n",
        "# Means should be close to zero and stds close to one\n",
        "gamma, beta = np.ones(C), np.zeros(C)\n",
        "bn_param = {'mode': 'train'}\n",
        "out, _ = spatial_batchnorm_forward(x, gamma, beta, bn_param)\n",
        "print('After spatial batch normalization:')\n",
        "print('  Shape: ', out.shape)\n",
        "print('  Means: ', out.mean(axis=(0, 2, 3)))\n",
        "print('  Stds: ', out.std(axis=(0, 2, 3)))\n",
        "\n",
        "# Means should be close to beta and stds close to gamma\n",
        "gamma, beta = np.asarray([3, 4, 5]), np.asarray([6, 7, 8])\n",
        "out, _ = spatial_batchnorm_forward(x, gamma, beta, bn_param)\n",
        "print('After spatial batch normalization (nontrivial gamma, beta):')\n",
        "print('  Shape: ', out.shape)\n",
        "print('  Means: ', out.mean(axis=(0, 2, 3)))\n",
        "print('  Stds: ', out.std(axis=(0, 2, 3)))"
      ]
    },
    {
      "cell_type": "code",
      "execution_count": 35,
      "metadata": {
        "id": "2f0-j4l3Nj37",
        "outputId": "f79e145a-3913-4ded-d68f-983836422522",
        "colab": {
          "base_uri": "https://localhost:8080/"
        }
      },
      "outputs": [
        {
          "output_type": "stream",
          "name": "stdout",
          "text": [
            "After spatial batch normalization (test-time):\n",
            "  means:  [-0.08034406  0.07562881  0.05716371  0.04378383]\n",
            "  stds:  [0.96718744 1.0299714  1.02887624 1.00585577]\n"
          ]
        }
      ],
      "source": [
        "np.random.seed(231)\n",
        "# Check the test-time forward pass by running the training-time\n",
        "# forward pass many times to warm up the running averages, and then\n",
        "# checking the means and variances of activations after a test-time\n",
        "# forward pass.\n",
        "N, C, H, W = 10, 4, 11, 12\n",
        "\n",
        "bn_param = {'mode': 'train'}\n",
        "gamma = np.ones(C)\n",
        "beta = np.zeros(C)\n",
        "for t in range(50):\n",
        "  x = 2.3 * np.random.randn(N, C, H, W) + 13\n",
        "  spatial_batchnorm_forward(x, gamma, beta, bn_param)\n",
        "bn_param['mode'] = 'test'\n",
        "x = 2.3 * np.random.randn(N, C, H, W) + 13\n",
        "a_norm, _ = spatial_batchnorm_forward(x, gamma, beta, bn_param)\n",
        "\n",
        "# Means should be close to zero and stds close to one, but will be\n",
        "# noisier than training-time forward passes.\n",
        "print('After spatial batch normalization (test-time):')\n",
        "print('  means: ', a_norm.mean(axis=(0, 2, 3)))\n",
        "print('  stds: ', a_norm.std(axis=(0, 2, 3)))"
      ]
    },
    {
      "cell_type": "markdown",
      "metadata": {
        "id": "4ZSbsZOuNj37"
      },
      "source": [
        "<font size='4' color='red'>**Task 2.5: backward pass of a (normal) batch norm layer (6 points).**"
      ]
    },
    {
      "cell_type": "code",
      "execution_count": 37,
      "metadata": {
        "id": "WUy3cc_cNj37"
      },
      "outputs": [],
      "source": [
        "def batchnorm_backward(dout, cache):\n",
        "    \"\"\"\n",
        "    Backward pass for batch normalization.\n",
        "    \n",
        "    For this implementation you should work out the derivatives for the batch\n",
        "    normalizaton backward pass on paper and simplify as much as possible. You\n",
        "    should be able to derive a simple expression for the backward pass.\n",
        "\n",
        "    Inputs:\n",
        "    - dout: Upstream derivatives, of shape (N, D)\n",
        "    - cache: Variable of intermediates from batchnorm_forward.\n",
        "\n",
        "    Returns a tuple of:\n",
        "    - dx: Gradient with respect to inputs x, of shape (N, D)\n",
        "    - dgamma: Gradient with respect to scale parameter gamma, of shape (D,)\n",
        "    - dbeta: Gradient with respect to shift parameter beta, of shape (D,)\n",
        "    \"\"\"\n",
        "    dx, dgamma, dbeta = None, None, None\n",
        "    ###########################################################################\n",
        "    # TODO: Implement the backward pass for batch normalization. Store the    #\n",
        "    # results in the dx, dgamma, and dbeta variables.                         #\n",
        "    #                                                                         #\n",
        "    # After computing the gradient with respect to the centered inputs, you   #\n",
        "    # should be able to compute gradients with respect to the inputs in a     #\n",
        "    # single statement.                                                       #\n",
        "    ###########################################################################\n",
        "    \n",
        "    x_hat, x, sample_mean, sample_var, gamma, beta, eps = cache\n",
        "    n = x.shape[0]\n",
        "\n",
        "    d_x_hat = dout * gamma\n",
        "    \n",
        "    d_x1 = d_x_hat / np.sqrt(sample_var + eps)\n",
        "    d_sample_mean1 = np.sum(-d_x_hat / np.sqrt(sample_var + eps), axis=0)\n",
        "    d_sample_var = np.sum((x - sample_mean) * -0.5 * np.power((sample_var + eps), -3/2) * d_x_hat, axis=0)\n",
        "    \n",
        "    d_x2 = 2 * (x - sample_mean) * d_sample_var / n\n",
        "    d_sample_mean2 = np.sum(-2 * (x - sample_mean) * d_sample_var, axis=0) / n\n",
        "    d_sample_mean = d_sample_mean1 + d_sample_mean2\n",
        "    \n",
        "    d_x3 = d_sample_mean / n\n",
        "\n",
        "    dx = d_x1 + d_x2 + d_x3\n",
        "    dgamma = np.sum(dout * x_hat, axis=0)\n",
        "    dbeta = np.sum(dout, axis=0)\n",
        "    \n",
        "    ###########################################################################\n",
        "    #                             END OF YOUR CODE                            #\n",
        "    ###########################################################################\n",
        "\n",
        "    return dx, dgamma, dbeta"
      ]
    },
    {
      "cell_type": "markdown",
      "metadata": {
        "id": "45udB8U9Nj37"
      },
      "source": [
        "<font size='4' color='red'>**Task 2.6: backward pass of a spatial batch norm layer (3 points).**"
      ]
    },
    {
      "cell_type": "code",
      "execution_count": 38,
      "metadata": {
        "id": "MSsIVwmSNj37"
      },
      "outputs": [],
      "source": [
        "def spatial_batchnorm_backward(dout, cache):\n",
        "    \"\"\"\n",
        "    Computes the backward pass for spatial batch normalization.\n",
        "\n",
        "    Inputs:\n",
        "    - dout: Upstream derivatives, of shape (N, C, H, W)\n",
        "    - cache: Values from the forward pass\n",
        "\n",
        "    Returns a tuple of:\n",
        "    - dx: Gradient with respect to inputs, of shape (N, C, H, W)\n",
        "    - dgamma: Gradient with respect to scale parameter, of shape (C,)\n",
        "    - dbeta: Gradient with respect to shift parameter, of shape (C,)\n",
        "    \"\"\"\n",
        "    dx, dgamma, dbeta = None, None, None\n",
        "\n",
        "    ###########################################################################\n",
        "    # TODO: Implement the backward pass for spatial batch normalization.      #\n",
        "    #                                                                         #\n",
        "    # HINT: You can implement spatial batch normalization by calling the      #\n",
        "    # vanilla version of batch normalization you implemented above.           #\n",
        "    # Your implementation should be very short; ours is less than five lines. #\n",
        "    ###########################################################################\n",
        "    \n",
        "    N, C, H, W = dout.shape\n",
        "\n",
        "    # Reshape dout to N*H*W * C to call batch normalization\n",
        "    dout_new = np.reshape(np.transpose(dout, (0, 2, 3, 1)), (-1, C))\n",
        "\n",
        "    dx, dgamma, dbeta = batchnorm_backward(dout_new, cache)\n",
        "\n",
        "    # Reshape dx to (N, C, H, W)\n",
        "    dx = np.transpose(np.reshape(dx, (N, H, W, C)), (0, 3, 1, 2))\n",
        "\n",
        "    ###########################################################################\n",
        "    #                             END OF YOUR CODE                            #\n",
        "    ###########################################################################\n",
        "\n",
        "    return dx, dgamma, dbeta"
      ]
    },
    {
      "cell_type": "code",
      "execution_count": 39,
      "metadata": {
        "id": "7ejqSn79Nj38",
        "outputId": "998be1bb-f7fd-446a-f3fd-0e86e1f7cac1",
        "colab": {
          "base_uri": "https://localhost:8080/"
        }
      },
      "outputs": [
        {
          "output_type": "stream",
          "name": "stdout",
          "text": [
            "dx error:  2.786648197756335e-07\n",
            "dgamma error:  7.0974817113608705e-12\n",
            "dbeta error:  3.275608725278405e-12\n"
          ]
        }
      ],
      "source": [
        "# gradient check\n",
        "np.random.seed(231)\n",
        "N, C, H, W = 2, 3, 4, 5\n",
        "x = 5 * np.random.randn(N, C, H, W) + 12\n",
        "gamma = np.random.randn(C)\n",
        "beta = np.random.randn(C)\n",
        "dout = np.random.randn(N, C, H, W)\n",
        "\n",
        "bn_param = {'mode': 'train'}\n",
        "fx = lambda x: spatial_batchnorm_forward(x, gamma, beta, bn_param)[0]\n",
        "fg = lambda a: spatial_batchnorm_forward(x, gamma, beta, bn_param)[0]\n",
        "fb = lambda b: spatial_batchnorm_forward(x, gamma, beta, bn_param)[0]\n",
        "\n",
        "dx_num = eval_numerical_gradient_array(fx, x, dout)\n",
        "da_num = eval_numerical_gradient_array(fg, gamma, dout)\n",
        "db_num = eval_numerical_gradient_array(fb, beta, dout)\n",
        "\n",
        "#You should expect errors of magnitudes between 1e-12~1e-06\n",
        "_, cache = spatial_batchnorm_forward(x, gamma, beta, bn_param)\n",
        "dx, dgamma, dbeta = spatial_batchnorm_backward(dout, cache)\n",
        "print('dx error: ', rel_error(dx_num, dx))\n",
        "print('dgamma error: ', rel_error(da_num, dgamma))\n",
        "print('dbeta error: ', rel_error(db_num, dbeta))"
      ]
    },
    {
      "cell_type": "markdown",
      "metadata": {
        "id": "qEBVWUqbNj38"
      },
      "source": [
        "### Part 2.3: Adaptive average pooling layer (8 points)\n",
        "<font size='4'> In AlexNet and VGG-like networks, a 2D convolution feature map is usually flattened to get a 1D feature vector, which is then fed into a fully-connected layer. Since ResNet, such flattening is no longer used. Instead, an adaptive average pooing layer is used. Given a 2D feature map with shape of `(N, C, H, W)`, the mean across the dimension `H` and `W` are computed. As a result, we get a 2D feature map with shape of `(N, C, 1, 1)` that is equivalent to a 1D feature vector with shape of `(N, C)`."
      ]
    },
    {
      "cell_type": "markdown",
      "metadata": {
        "id": "jdaZrEFVNj38"
      },
      "source": [
        "<font size='4' color='red'>**Task 2.7: forward pass of an adaptive average pooling layer (3 points).**"
      ]
    },
    {
      "cell_type": "code",
      "execution_count": 40,
      "metadata": {
        "id": "nlR8WjFTNj38"
      },
      "outputs": [],
      "source": [
        "def adaptive_avg_pool_forward(x):\n",
        "    \"\"\"\n",
        "    Computes the forward pass of the adaptive average pooling layer\n",
        "    \n",
        "    Input:\n",
        "    - x: Input data of shape (N, C, H, W)\n",
        "    \n",
        "    Returns of a tuple of:\n",
        "    - out: Output data, of shape (N, C)\n",
        "    - cache: (x,)\n",
        "    \"\"\"\n",
        "    out, cache = None, None\n",
        "    \n",
        "    ###########################################################################\n",
        "    # TODO: Implement the forward pass for adaptive average pooling.          #\n",
        "    ###########################################################################\n",
        "    \n",
        "    N,C = x.shape[0], x.shape[1]\n",
        "    out = np.ones((N,C))\n",
        "\n",
        "    for i in range(N):\n",
        "        for c in range(C):\n",
        "            out[i,c] = np.mean(x[i, c])\n",
        "\n",
        "    cache = (x,)\n",
        "\n",
        "    ###########################################################################\n",
        "    #                             END OF YOUR CODE                            #\n",
        "    ###########################################################################\n",
        "    \n",
        "    return out, cache"
      ]
    },
    {
      "cell_type": "code",
      "execution_count": 43,
      "metadata": {
        "id": "y3xv-PH6Nj38",
        "outputId": "9dfcdf6f-606a-421d-efce-b6d00fbc7150",
        "colab": {
          "base_uri": "https://localhost:8080/"
        }
      },
      "outputs": [
        {
          "output_type": "stream",
          "name": "stdout",
          "text": [
            "Testing adaptive_avg_pool_forward\n",
            "difference:  2.7173913643149127e-08\n"
          ]
        }
      ],
      "source": [
        "# check your implementation\n",
        "x_shape = (2, 3, 4, 4)\n",
        "x = np.linspace(-0.1, 0.5, num=np.prod(x_shape)).reshape(x_shape)\n",
        "\n",
        "out, _ = adaptive_avg_pool_forward(x)\n",
        "correct_out = np.array([\n",
        "    [-0.05263158,  0.04842105,  0.14947368],\n",
        "    [ 0.25052632,  0.35157895,  0.45263158]\n",
        "])\n",
        "\n",
        "# Compare your output to ours; difference should be around e-8\n",
        "print('Testing adaptive_avg_pool_forward')\n",
        "print('difference: ', rel_error(out, correct_out))"
      ]
    },
    {
      "cell_type": "markdown",
      "metadata": {
        "id": "LcFUf7NKNj39"
      },
      "source": [
        "<font size='4' color='red'>**Task 2.8: backward pass of an adaptive average pooling layer (3 points).**"
      ]
    },
    {
      "cell_type": "code",
      "execution_count": 44,
      "metadata": {
        "id": "FPBDttM9Nj39"
      },
      "outputs": [],
      "source": [
        "def adaptive_avg_pool_backward(dout, cache):\n",
        "    \"\"\"\n",
        "    Computes the forward pass of the adaptive average pooling layer\n",
        "    \n",
        "    Inputs:\n",
        "    - dout: Upstream derivatives.\n",
        "    - cache: x as in global_avg_pool_backward\n",
        "    \n",
        "    Returns:\n",
        "    - dx: gradient with respect x\n",
        "    \n",
        "    \"\"\"\n",
        "    dx = None\n",
        "    \n",
        "    ###########################################################################\n",
        "    # TODO: Implement the backward pass for adaptive average pooling.          #\n",
        "    ###########################################################################\n",
        "    \n",
        "    (x,) = cache\n",
        "    N,C,H,W = x.shape\n",
        "\n",
        "    dx = np.zeros(x.shape)\n",
        "    \n",
        "    for i in range(N):\n",
        "        for c in range(C):\n",
        "            average = dout[i, c] / (H*W)\n",
        "            dx[i, c, :, :] += average    \n",
        "    \n",
        "    ###########################################################################\n",
        "    #                             END OF YOUR CODE                            #\n",
        "    ###########################################################################\n",
        "    \n",
        "    return dx    "
      ]
    },
    {
      "cell_type": "code",
      "execution_count": 45,
      "metadata": {
        "id": "65ATVJgNNj39",
        "outputId": "d65e8ae7-ac0b-40dd-e7b2-de38b97abb76",
        "colab": {
          "base_uri": "https://localhost:8080/"
        }
      },
      "outputs": [
        {
          "output_type": "stream",
          "name": "stdout",
          "text": [
            "Testing adaptive_avg_pool_backward function\n",
            "dx error:  5.501115761541525e-11\n"
          ]
        }
      ],
      "source": [
        "# gradient check\n",
        "np.random.seed(231)\n",
        "x = np.random.randn(4, 3, 5, 5)\n",
        "dout = np.random.randn(4, 3)\n",
        "\n",
        "dx_num = eval_numerical_gradient_array(lambda x: adaptive_avg_pool_forward(x)[0], x, dout)\n",
        "\n",
        "out, cache = adaptive_avg_pool_forward(x)\n",
        "dx = adaptive_avg_pool_backward(dout, cache)\n",
        "\n",
        "# Your errors should be around e-8 or less.\n",
        "print('Testing adaptive_avg_pool_backward function')\n",
        "print('dx error: ', rel_error(dx, dx_num))"
      ]
    },
    {
      "cell_type": "markdown",
      "metadata": {
        "id": "Q_eHIPRzNj39"
      },
      "source": [
        "### Part 2.4: ConvNet (26 points)\n",
        "<font size='4'>Now that you have implemented all the necessary layers, we can put them together into a simple convolutional network."
      ]
    },
    {
      "cell_type": "markdown",
      "metadata": {
        "id": "5MWUryJpNj39"
      },
      "source": [
        "<font size='4' color='red'>**Task 2.9: Implement a fully convolutional CNN (13 points).**"
      ]
    },
    {
      "cell_type": "code",
      "execution_count": 53,
      "metadata": {
        "id": "kwYh8ZniNj39"
      },
      "outputs": [],
      "source": [
        "class ConvNet(object):\n",
        "    \"\"\"\n",
        "    A simple fully convolutional network with the following architecture:\n",
        "\n",
        "    [conv - bn - relu] x M - adaptive_average_pooling - affine - softmax\n",
        "    \n",
        "    \"[conv - bn - relu] x M\" means the \"conv-bn-relu\" combination is repeated for\n",
        "    M times, where M is implicitly defined by the convolution layers' parameters.\n",
        "    \n",
        "    For each convolution layer, we do downsampling of factor 2 by setting its stride\n",
        "    to be 2. So we can have a large receptive field size.\n",
        "\n",
        "    The network operates on minibatches of data that have shape (N, C, H, W)\n",
        "    consisting of N images, each with height H and width W and with C input\n",
        "    channels (C=3 corresponding to RGB).\n",
        "    \"\"\"\n",
        "\n",
        "    def __init__(self, input_dim=(3, 32, 32), num_filters=[32], filter_sizes=[7],\n",
        "            num_classes=10, weight_scale=1e-3, reg=0.0, use_batch_norm=True, \n",
        "            dtype=np.float32):\n",
        "        \"\"\"\n",
        "        Initialize a new network.\n",
        "\n",
        "        Inputs:\n",
        "        - input_dim: Tuple (C, H, W) giving size of input data.\n",
        "        - num_filters: List of number of filters to use in the convolutional layers. \n",
        "          It is a list whose length defines the number of convolution layers and each\n",
        "          element defines how many convolution filters are in a convolution layer.\n",
        "        - filter_sizes: Width/height of filters to use in the convolutional layers. It\n",
        "          is a list with the same length with num_filters.\n",
        "        - num_classes: Number of output classes.\n",
        "        - weight_scale: Scalar giving standard deviation for random initialization\n",
        "          of weights.\n",
        "        - reg: Scalar giving L2 regularization strength.\n",
        "        - use_batch_norm: A boolean variable indicating whether to use batch normalization\n",
        "        - dtype: numpy datatype to use for computation.\n",
        "        \"\"\"\n",
        "        self.params = {}\n",
        "        self.bn_params = {}\n",
        "        self.reg = reg\n",
        "        self.dtype = dtype\n",
        "        self.use_batchnorm = use_batch_norm\n",
        "        self.filter_size = filter_sizes\n",
        "        self.M = len(num_filters)\n",
        "        assert len(num_filters) == len(filter_sizes)\n",
        "\n",
        "        ############################################################################\n",
        "        # TODO: Initialize weights and biases for the simple fully convolutional   #\n",
        "        # network. Weights should be initialized from a Gaussian centered at 0.0   #\n",
        "        # with standard deviation equal to weight_scale; biases should be          #\n",
        "        # initialized to zero. All weights and biases should be stored in the      #\n",
        "        #  dictionary self.params.                                                 #\n",
        "        #                                                                          #\n",
        "        # Store weights and biases for the first layer in W1 and b1; for the       # \n",
        "        # second layer use W2 and b2, etc. Weights should be initialized from a    #\n",
        "        # normal distribution centered at 0 with standard deviation equal to       #\n",
        "        # weight_scale. Biases should be initialized to zero.                      #\n",
        "        #                                                                          #\n",
        "        # When using batch normalization, store scale and shift parameters for the #\n",
        "        # first layer in gamma1 and beta1; for the second layer use gamma2 and     #\n",
        "        # beta2, etc. Scale parameters should be initialized to ones and shift     #\n",
        "        # parameters should be initialized to zeros.                               #\n",
        "        #\n",
        "        #                                                                          #\n",
        "        # IMPORTANT:                                                               #\n",
        "        # 1. For each convolution layer, we use stride of 2 to do downsampling.    #\n",
        "        # 2. Note the way how we pass the running_mean and running_va for a batch  #\n",
        "        #    normalization layer. They will be updated in the forward pass (in the #\n",
        "        #    training mode), although they are not part of the output. So you need #\n",
        "        #    a way to persistently store them (the self.bn_params variable).       #\n",
        "        ############################################################################\n",
        "        \n",
        "        # Size of the input\n",
        "        Cinput, Hinput, Winput = input_dim\n",
        "        stride_conv = 2  # stride\n",
        "\n",
        "        # Initialize the weight for the conv layers\n",
        "        F = [Cinput] + num_filters\n",
        "\n",
        "        for i in range(self.M):\n",
        "            idx = i + 1\n",
        "            W = weight_scale * np.random.randn(F[i + 1], F[i], self.filter_size[i], self.filter_size[i])            \n",
        "            b = np.zeros(F[i + 1])\n",
        "\n",
        "            self.params.update({'W' + str(i + 1): W,\n",
        "                                'b' + str(i + 1): b})\n",
        "           \n",
        "            if self.use_batchnorm:\n",
        "                bn_param = {'mode': 'train',\n",
        "                            'running_mean': np.zeros(F[i + 1]),\n",
        "                            'running_var': np.zeros(F[i + 1])}\n",
        "                            \n",
        "                gamma = np.ones(F[i + 1])\n",
        "                beta = np.zeros(F[i + 1])\n",
        "                self.bn_params.update({\n",
        "                    'bn_param' + str(i + 1): bn_param})\n",
        "                self.params.update({\n",
        "                    'gamma' + str(i + 1): gamma,\n",
        "                    'beta' + str(i + 1): beta})\n",
        "\n",
        "        # Scoring layer\n",
        "        W = weight_scale * np.random.randn(F[-1], num_classes)\n",
        "        b = np.zeros(num_classes)\n",
        "        self.params.update({'W' + str(self.M + 1): W,\n",
        "                            'b' + str(self.M + 1): b})\n",
        "       \n",
        "        ############################################################################\n",
        "        #                             END OF YOUR CODE                             #\n",
        "        ############################################################################\n",
        "\n",
        "        for k, v in self.params.items():\n",
        "            self.params[k] = v.astype(dtype)\n",
        "\n",
        "\n",
        "    def loss(self, X, y=None):\n",
        "        \"\"\"\n",
        "        Evaluate loss and gradient for the fully convolutional network.\n",
        "\n",
        "        Input / output: Same API as TwoLayerNet.\n",
        "        \"\"\"\n",
        "\n",
        "        X = X.astype(self.dtype)\n",
        "        mode = 'test' if y is None else 'train'\n",
        "\n",
        "        N = X.shape[0]\n",
        "        conv_param = {'stride': 2, 'pad': 0}\n",
        "\n",
        "        if self.use_batchnorm:\n",
        "            for key, bn_param in self.bn_params.items():\n",
        "                bn_param[mode] = mode\n",
        "\n",
        "        scores = None\n",
        "\n",
        "        ############################################################################\n",
        "        # TODO: Implement the forward pass for the simple fully convolutional net, #\n",
        "        # computing the class scores for X and storing them in the scores          #\n",
        "        # variable.                                                                #\n",
        "        #                                                                          #\n",
        "        # When using batch normalization, you'll need to pass self.bn_params[0] to #\n",
        "        # the forward pass for the first batch normalization layer, pass           #\n",
        "        # self.bn_params[1] to the forward pass for the second batch normalization #\n",
        "        # layer, etc.                                                              #\n",
        "        ############################################################################\n",
        "                \n",
        "        blocks = {}\n",
        "        blocks['h0'] = X\n",
        "\n",
        "        # Conv- Batch Norm -Relu x M\n",
        "        for i in range(self.M):\n",
        "            w = self.params['W' + str(i + 1)]\n",
        "            b = self.params['b' + str(i + 1)]\n",
        "            h = blocks['h' + str(i)]\n",
        "\n",
        "            if self.use_batchnorm:\n",
        "                beta = self.params['beta' + str(i + 1)]\n",
        "                gamma = self.params['gamma' + str(i + 1)]\n",
        "                bn_param = self.bn_params['bn_param' + str(i + 1)]\n",
        "\n",
        "                conv, conv_cache = conv_forward_naive(h, w, b, conv_param)\n",
        "                norm, norm_cache = spatial_batchnorm_forward(conv, gamma, beta, bn_param)\n",
        "                relu, relu_cache = relu_forward(norm)\n",
        "\n",
        "                h, cache_h = relu, (conv_cache, norm_cache, relu_cache)           \n",
        "            \n",
        "            else:\n",
        "                conv, conv_cache = conv_forward_naive(h, w, b, conv_param)\n",
        "                relu, relu_cache = relu_forward(conv)\n",
        "\n",
        "                h, cache_h = relu, (conv_cache, relu_cache)\n",
        "           \n",
        "            blocks['h' + str(i + 1)] = h\n",
        "            blocks['cache_h' + str(i + 1)] = cache_h\n",
        "\n",
        "        # Adaptive Pool\n",
        "        idx = self.M + 1\n",
        "        h = blocks['h' + str(idx - 1)]   \n",
        "        h, cache_h = adaptive_avg_pool_forward(h)\n",
        "        blocks['h' + str(idx)] = h\n",
        "        blocks['cache_h' + str(idx)] = cache_h\n",
        "\n",
        "        # Scoring Layer\n",
        "        idx = self.M + 1\n",
        "        w = self.params['W' + str(idx)]\n",
        "        b = self.params['b' + str(idx)]\n",
        "        h = blocks['h' + str(idx)]\n",
        "        h, cache_h = affine_forward(h, w, b)\n",
        "        blocks['h' + str(idx+1)] = h\n",
        "        blocks['cache_h' + str(idx+1)] = cache_h\n",
        "\n",
        "        scores = blocks['h' + str(idx+1)]\n",
        "        \n",
        "\n",
        "        ############################################################################\n",
        "        #                             END OF YOUR CODE                             #\n",
        "        ############################################################################\n",
        "\n",
        "        if y is None:\n",
        "            return scores\n",
        "\n",
        "        loss, grads = 0, {}\n",
        "        ############################################################################\n",
        "        # TODO: Implement the backward pass for the simple fully convolutional net,#\n",
        "        # storing the loss and gradients in the loss and grads variables. Compute  #\n",
        "        # data loss using softmax, and make sure that grads[k] holds the gradients #\n",
        "        # for self.params[k]. Don't forget to add L2 regularization!               #\n",
        "        #                                                                          #\n",
        "        # When using batch/layer normalization, you don't need to regularize the   #\n",
        "        # scale and shift parameters.                                              #\n",
        "        #                                                                          #\n",
        "        # NOTE: To ensure that your implementation matches ours and you pass the   #\n",
        "        # automated tests, make sure that your L2 regularization includes a factor #\n",
        "        # of 0.5 to simplify the expression for the gradient.                      #\n",
        "        ############################################################################\n",
        "        \n",
        "        # Computing of the loss\n",
        "        data_loss, dscores = softmax_loss(scores, y)\n",
        "        reg_loss = 0\n",
        "        for w in [self.params[f] for f in self.params.keys() if f[0] == 'W']:\n",
        "            reg_loss += 0.5 * self.reg * np.sum(w * w)\n",
        "\n",
        "        loss = data_loss + reg_loss\n",
        "\n",
        "        # Backward pass\n",
        "        idx = self.M + 1\n",
        "        blocks['dh' + str(idx+1)] = dscores\n",
        "        dh = blocks['dh' + str(idx+1)] \n",
        "\n",
        "        h_cache = blocks['cache_h' + str(idx + 1)]\n",
        "        dh, dw, db = affine_backward(dh, h_cache)\n",
        "        blocks['dh' + str(idx)] = dh\n",
        "        blocks['dW' + str(idx)] = dw\n",
        "        blocks['db' + str(idx)] = db\n",
        "        \n",
        "        # Adaptive Pool\n",
        "        h_cache = blocks['cache_h' + str(idx)]\n",
        "        dh = adaptive_avg_pool_backward(dh, h_cache)\n",
        "        blocks['dh' + str(idx-1)] = dh\n",
        "\n",
        "        # Backprop into the linear blocks\n",
        "        for i in range(self.M,0,-1) :\n",
        "            idx = i\n",
        "            dh = blocks['dh' + str(idx)]\n",
        "\n",
        "            if self.use_batchnorm:\n",
        "                conv_cache, norm_cache, relu_cache = blocks['cache_h' + str(idx)]\n",
        "\n",
        "                dh = relu_backward(dh, relu_cache)\n",
        "\n",
        "                dh,dgamma,dbeta = spatial_batchnorm_backward(dh, norm_cache)\n",
        "                blocks['dbeta' + str(idx)] = dbeta\n",
        "                blocks['dgamma' + str(idx)] = dgamma\n",
        "\n",
        "            else :\n",
        "                conv_cache, relu_cache = blocks['cache_h' + str(idx)]\n",
        "\n",
        "                dh = relu_backward(dh, relu_cache)\n",
        "              \n",
        "            dh,dw,db = conv_backward_naive(dh, conv_cache)\n",
        "\n",
        "            blocks['dh' + str(idx - 1)] = dh\n",
        "            blocks['dW' + str(idx)] = dw\n",
        "            blocks['db' + str(idx)] = db\n",
        "\n",
        "        grads = {}\n",
        "\n",
        "        list_dw = {key[1:]: val + self.reg * self.params[key[1:]]\n",
        "                   for key, val in blocks.items() if key[:2] == 'dW'}\n",
        "       \n",
        "        list_db = {key[1:]: val for key, val in blocks.items() if key[:2] == 'db'}\n",
        "\n",
        "        grads.update(list_dw)\n",
        "        grads.update(list_db)\n",
        "\n",
        "        if self.use_batchnorm:     \n",
        "            list_dgamma = {key[1:]: val for key, val in blocks.items() if key[:6] == 'dgamma'}\n",
        "        \n",
        "            list_dbeta = {key[1:]: val for key, val in blocks.items() if key[:5] == 'dbeta'}\n",
        "\n",
        "            grads.update(list_dgamma)\n",
        "            grads.update(list_dbeta)\n",
        "\n",
        "        ############################################################################\n",
        "        #                             END OF YOUR CODE                             #\n",
        "        ############################################################################\n",
        "\n",
        "        return loss, grads\n"
      ]
    },
    {
      "cell_type": "markdown",
      "metadata": {
        "id": "1tCzwXW2Nj3-"
      },
      "source": [
        "### Sanity check loss\n",
        "<font size='4'>After you build a new network, one of the first things you should do is sanity check the loss. When we use the softmax loss, we expect the loss for random weights (and no regularization) to be about `log(C)` for `C` classes. When we add regularization this should go up."
      ]
    },
    {
      "cell_type": "code",
      "execution_count": 47,
      "metadata": {
        "id": "HDX8JMpoNj3-",
        "outputId": "004b864b-f178-4c01-8455-6a701f0807b3",
        "colab": {
          "base_uri": "https://localhost:8080/"
        }
      },
      "outputs": [
        {
          "output_type": "stream",
          "name": "stdout",
          "text": [
            "Initial loss (no regularization):  2.302754136391594\n",
            "log(10):  2.302585092994046\n",
            "Initial loss (with regularization):  2.304018821647186\n"
          ]
        }
      ],
      "source": [
        "model = ConvNet()\n",
        "\n",
        "N = 50\n",
        "X = np.random.randn(N, 3, 32, 32)\n",
        "y = np.random.randint(10, size= N)\n",
        "\n",
        "loss, grads = model.loss(X, y)\n",
        "print('Initial loss (no regularization): ', loss)\n",
        "print('log(10): ', np.log(10))\n",
        "\n",
        "model.reg = 0.5\n",
        "loss, grads = model.loss(X, y)\n",
        "print('Initial loss (with regularization): ', loss)"
      ]
    },
    {
      "cell_type": "markdown",
      "metadata": {
        "id": "4bm8wL-DNj3_"
      },
      "source": [
        "### Gradient check\n",
        "<font size='4'>After the loss looks reasonable, use numeric gradient checking to make sure that your backward pass is correct. When you use numeric gradient checking you should use a small amount of artifical data and a small number of neurons at each layer. Note: correct implementations may still have relative errors up to the order of e-2."
      ]
    },
    {
      "cell_type": "code",
      "execution_count": 48,
      "metadata": {
        "id": "kGFF1oxCNj3_",
        "outputId": "b5f22aeb-0528-4453-8e95-05b176dc9f3b",
        "colab": {
          "base_uri": "https://localhost:8080/"
        }
      },
      "outputs": [
        {
          "output_type": "stream",
          "name": "stdout",
          "text": [
            "W1 max relative error: 4.060267e-05\n",
            "W2 max relative error: 7.190882e-09\n",
            "b1 max relative error: 6.938894e-10\n",
            "b2 max relative error: 9.479388e-10\n",
            "beta1 max relative error: 6.537701e-07\n",
            "gamma1 max relative error: 2.865650e-06\n"
          ]
        }
      ],
      "source": [
        "num_inputs = 2\n",
        "input_dim = (3, 8, 8)\n",
        "reg = 0.0\n",
        "num_classes = 10\n",
        "np.random.seed(231)\n",
        "X = np.random.randn(num_inputs, *input_dim)\n",
        "y = np.random.randint(num_classes, size=num_inputs)\n",
        "\n",
        "model = ConvNet(input_dim=input_dim, dtype=np.float64)\n",
        "loss, grads = model.loss(X, y)\n",
        "# Errors should be small, but correct implementations may have\n",
        "# relative errors up to the order of e-2\n",
        "for param_name in sorted(grads):\n",
        "    f = lambda _: model.loss(X, y)[0]\n",
        "    param_grad_num = eval_numerical_gradient(f, model.params[param_name], verbose=False, h=1e-6)\n",
        "    e = rel_error(param_grad_num, grads[param_name])\n",
        "    print('%s max relative error: %e' % (param_name, rel_error(param_grad_num, grads[param_name])))"
      ]
    },
    {
      "cell_type": "markdown",
      "metadata": {
        "id": "6PQV2Jf6Nj4A"
      },
      "source": [
        "### Overfit small data\n",
        "<font size='4'>A nice trick is to train your model with just a few training samples. You should be able to overfit small datasets, which will result in high training accuracy and comparatively low validation accuracy.\n",
        "    \n",
        "<font size='4'>In this case, we won't do the exact overfitting. Instead, you should be able to see very high training accuracy (>0.5) and relatively low validation accuracy (<0.2)."
      ]
    },
    {
      "cell_type": "code",
      "execution_count": null,
      "metadata": {
        "id": "-Nap_8h3Nj4A",
        "outputId": "9fb63306-58c6-40a0-be42-e0ebb019c475",
        "colab": {
          "base_uri": "https://localhost:8080/"
        }
      },
      "outputs": [
        {
          "output_type": "stream",
          "name": "stdout",
          "text": [
            "(Iteration 1 / 250) loss: 2.290533\n",
            "(Epoch 0 / 50) train acc: 0.070000; val_acc: 0.098000\n",
            "(Epoch 1 / 50) train acc: 0.160000; val_acc: 0.102000\n",
            "(Epoch 2 / 50) train acc: 0.200000; val_acc: 0.137000\n",
            "(Iteration 11 / 250) loss: 2.259508\n",
            "(Epoch 3 / 50) train acc: 0.190000; val_acc: 0.129000\n",
            "(Epoch 4 / 50) train acc: 0.210000; val_acc: 0.147000\n",
            "(Iteration 21 / 250) loss: 2.282822\n",
            "(Epoch 5 / 50) train acc: 0.250000; val_acc: 0.156000\n",
            "(Epoch 6 / 50) train acc: 0.280000; val_acc: 0.151000\n",
            "(Iteration 31 / 250) loss: 2.045248\n",
            "(Epoch 7 / 50) train acc: 0.270000; val_acc: 0.145000\n",
            "(Epoch 8 / 50) train acc: 0.280000; val_acc: 0.172000\n",
            "(Iteration 41 / 250) loss: 2.184706\n",
            "(Epoch 9 / 50) train acc: 0.330000; val_acc: 0.193000\n",
            "(Epoch 10 / 50) train acc: 0.310000; val_acc: 0.198000\n",
            "(Iteration 51 / 250) loss: 1.996702\n",
            "(Epoch 11 / 50) train acc: 0.350000; val_acc: 0.198000\n",
            "(Epoch 12 / 50) train acc: 0.390000; val_acc: 0.193000\n",
            "(Iteration 61 / 250) loss: 1.901101\n",
            "(Epoch 13 / 50) train acc: 0.340000; val_acc: 0.178000\n",
            "(Epoch 14 / 50) train acc: 0.330000; val_acc: 0.181000\n",
            "(Iteration 71 / 250) loss: 2.083528\n",
            "(Epoch 15 / 50) train acc: 0.320000; val_acc: 0.178000\n",
            "(Epoch 16 / 50) train acc: 0.350000; val_acc: 0.169000\n",
            "(Iteration 81 / 250) loss: 1.914241\n",
            "(Epoch 17 / 50) train acc: 0.350000; val_acc: 0.166000\n",
            "(Epoch 18 / 50) train acc: 0.350000; val_acc: 0.174000\n",
            "(Iteration 91 / 250) loss: 1.795995\n",
            "(Epoch 19 / 50) train acc: 0.380000; val_acc: 0.181000\n",
            "(Epoch 20 / 50) train acc: 0.400000; val_acc: 0.193000\n",
            "(Iteration 101 / 250) loss: 1.892661\n",
            "(Epoch 21 / 50) train acc: 0.370000; val_acc: 0.178000\n",
            "(Epoch 22 / 50) train acc: 0.400000; val_acc: 0.191000\n",
            "(Iteration 111 / 250) loss: 1.890111\n",
            "(Epoch 23 / 50) train acc: 0.390000; val_acc: 0.190000\n",
            "(Epoch 24 / 50) train acc: 0.350000; val_acc: 0.178000\n",
            "(Iteration 121 / 250) loss: 1.824683\n",
            "(Epoch 25 / 50) train acc: 0.340000; val_acc: 0.177000\n",
            "(Epoch 26 / 50) train acc: 0.410000; val_acc: 0.186000\n",
            "(Iteration 131 / 250) loss: 1.831504\n",
            "(Epoch 27 / 50) train acc: 0.450000; val_acc: 0.200000\n",
            "(Epoch 28 / 50) train acc: 0.420000; val_acc: 0.181000\n",
            "(Iteration 141 / 250) loss: 1.803105\n",
            "(Epoch 29 / 50) train acc: 0.430000; val_acc: 0.187000\n",
            "(Epoch 30 / 50) train acc: 0.460000; val_acc: 0.186000\n",
            "(Iteration 151 / 250) loss: 1.986598\n",
            "(Epoch 31 / 50) train acc: 0.510000; val_acc: 0.200000\n",
            "(Epoch 32 / 50) train acc: 0.520000; val_acc: 0.213000\n",
            "(Iteration 161 / 250) loss: 1.407065\n",
            "(Epoch 33 / 50) train acc: 0.470000; val_acc: 0.198000\n",
            "(Epoch 34 / 50) train acc: 0.520000; val_acc: 0.214000\n",
            "(Iteration 171 / 250) loss: 1.751385\n",
            "(Epoch 35 / 50) train acc: 0.540000; val_acc: 0.222000\n",
            "(Epoch 36 / 50) train acc: 0.550000; val_acc: 0.208000\n",
            "(Iteration 181 / 250) loss: 1.540776\n",
            "(Epoch 37 / 50) train acc: 0.500000; val_acc: 0.214000\n",
            "(Epoch 38 / 50) train acc: 0.550000; val_acc: 0.221000\n",
            "(Iteration 191 / 250) loss: 1.766430\n",
            "(Epoch 39 / 50) train acc: 0.600000; val_acc: 0.217000\n",
            "(Epoch 40 / 50) train acc: 0.570000; val_acc: 0.214000\n",
            "(Iteration 201 / 250) loss: 1.371379\n",
            "(Epoch 41 / 50) train acc: 0.520000; val_acc: 0.217000\n",
            "(Epoch 42 / 50) train acc: 0.550000; val_acc: 0.228000\n",
            "(Iteration 211 / 250) loss: 1.401580\n",
            "(Epoch 43 / 50) train acc: 0.520000; val_acc: 0.206000\n",
            "(Epoch 44 / 50) train acc: 0.600000; val_acc: 0.224000\n",
            "(Iteration 221 / 250) loss: 1.451844\n",
            "(Epoch 45 / 50) train acc: 0.570000; val_acc: 0.216000\n",
            "(Epoch 46 / 50) train acc: 0.610000; val_acc: 0.222000\n",
            "(Iteration 231 / 250) loss: 1.356382\n",
            "(Epoch 47 / 50) train acc: 0.580000; val_acc: 0.223000\n",
            "(Epoch 48 / 50) train acc: 0.600000; val_acc: 0.211000\n",
            "(Iteration 241 / 250) loss: 1.267894\n",
            "(Epoch 49 / 50) train acc: 0.580000; val_acc: 0.205000\n",
            "(Epoch 50 / 50) train acc: 0.640000; val_acc: 0.227000\n"
          ]
        }
      ],
      "source": [
        "np.random.seed(231)\n",
        "\n",
        "num_train = 100\n",
        "small_data = {\n",
        "  'X_train': data['X_train'][:num_train],\n",
        "  'y_train': data['y_train'][:num_train],\n",
        "  'X_val': data['X_val'],\n",
        "  'y_val': data['y_val'],\n",
        "}\n",
        "\n",
        "model = ConvNet(\n",
        "    num_filters=[16, 32],\n",
        "    filter_sizes=[7, 3],\n",
        "    weight_scale=1e-2\n",
        ")\n",
        "\n",
        "solver = Solver(\n",
        "    model, small_data,\n",
        "    num_epochs=50, batch_size=20,\n",
        "    update_rule=sgd_momentum,\n",
        "    optim_config={\n",
        "      'learning_rate': 1e-2,\n",
        "    },\n",
        "    verbose=True, print_every=10\n",
        ")\n",
        "solver.train()"
      ]
    },
    {
      "cell_type": "code",
      "execution_count": null,
      "metadata": {
        "id": "_vCghwzGNj4A",
        "outputId": "bfb94b70-7bb2-44cd-b028-565d851e8e64",
        "colab": {
          "base_uri": "https://localhost:8080/",
          "height": 497
        }
      },
      "outputs": [
        {
          "output_type": "display_data",
          "data": {
            "image/png": "[encoded data removed]",
            "text/plain": [
              "<Figure size 720x576 with 2 Axes>"
            ]
          },
          "metadata": {
            "needs_background": "light"
          }
        }
      ],
      "source": [
        "# Plotting the loss, training accuracy, and validation accuracy should show clear overfitting:\n",
        "plt.subplot(2, 1, 1)\n",
        "plt.plot(solver.loss_history, 'o')\n",
        "plt.xlabel('iteration')\n",
        "plt.ylabel('loss')\n",
        "\n",
        "plt.subplot(2, 1, 2)\n",
        "plt.plot(solver.train_acc_history, '-o')\n",
        "plt.plot(solver.val_acc_history, '-o')\n",
        "plt.legend(['train', 'val'], loc='upper left')\n",
        "plt.xlabel('epoch')\n",
        "plt.ylabel('accuracy')\n",
        "plt.show()"
      ]
    },
    {
      "cell_type": "markdown",
      "metadata": {
        "id": "uNpWZ5X7Nj4A"
      },
      "source": [
        "<font size='4' color='red'>**2.10: Train a good CNN (6 points).**"
      ]
    },
    {
      "cell_type": "markdown",
      "metadata": {
        "id": "VsZGLrtvNj4A"
      },
      "source": [
        "<font size='4'>By tweaking different parameters, such as number of convolution layers, learning rate, batch size, etc, you should achieve greater than 62% accuracy on the validation set **with 3 epochs using the sgd_momentum optimizer**.\n",
        "    \n",
        "<font size='4'>If you are really careful, you should be able to get nearly 66% accuracy on the validation set. But we don't give extra credits for doing so.\n",
        "    \n",
        "<font size='4'>It may take a quite while for your training to be finished. **Do not use more than four convolution layers. Your training shouldn't be longer than one hour.** (This is a rough reference as it depends on the hardware. Our implementation takes less than 10 minutes to finish.)\n",
        "    \n",
        "<font size='4'>Use a large filter/kernel size in the first convolution layer (for example, 7), so you can easily visualize the learend filters.\n",
        "    \n",
        "<font size='4'>Since it is relatively slower to train a CNN, you can simply report the best hyper parameters you found. You need report validation accuracy of other choices below."
      ]
    },
    {
      "cell_type": "code",
      "execution_count": null,
      "metadata": {
        "scrolled": false,
        "id": "tyBoVFlFNj4B",
        "outputId": "86448423-6f11-4450-e4f0-2faa2341a0c5",
        "colab": {
          "base_uri": "https://localhost:8080/"
        }
      },
      "outputs": [
        {
          "output_type": "stream",
          "name": "stdout",
          "text": [
            "(Iteration 1 / 1470) loss: 2.310408\n",
            "(Epoch 0 / 3) train acc: 0.108000; val_acc: 0.105000\n",
            "(Iteration 101 / 1470) loss: 2.047634\n",
            "(Iteration 201 / 1470) loss: 1.826629\n",
            "(Iteration 301 / 1470) loss: 1.740118\n",
            "(Iteration 401 / 1470) loss: 1.533541\n",
            "(Epoch 1 / 3) train acc: 0.384000; val_acc: 0.417000\n",
            "(Iteration 501 / 1470) loss: 1.549467\n",
            "(Iteration 601 / 1470) loss: 1.431304\n",
            "(Iteration 701 / 1470) loss: 1.434280\n",
            "(Iteration 801 / 1470) loss: 1.382390\n",
            "(Iteration 901 / 1470) loss: 1.468636\n",
            "(Epoch 2 / 3) train acc: 0.483000; val_acc: 0.496000\n",
            "(Iteration 1001 / 1470) loss: 1.647753\n",
            "(Iteration 1101 / 1470) loss: 1.256251\n",
            "(Iteration 1201 / 1470) loss: 1.326661\n",
            "(Iteration 1301 / 1470) loss: 1.366319\n",
            "(Iteration 1401 / 1470) loss: 1.274086\n",
            "(Epoch 3 / 3) train acc: 0.531000; val_acc: 0.556000\n"
          ]
        }
      ],
      "source": [
        "best_model = None\n",
        "################################################################################\n",
        "# TODO: Train the best ConvNet that you can on CIFAR-10 with 3 epochs using    #\n",
        "# the sgd_momentum optimizer. Store your best model in the best_model variable.#\n",
        "################################################################################\n",
        "\n",
        "data = get_CIFAR10_data(cifar10_dir)\n",
        "\n",
        "best_model = ConvNet(num_filters=[32,32], filter_sizes=[7,7],\n",
        "          weight_scale=5e-2, use_batch_norm=True)\n",
        "\n",
        "solver = Solver(\n",
        "    best_model, data,\n",
        "    num_epochs=3, batch_size=100,\n",
        "    update_rule=sgd_momentum,\n",
        "    optim_config={\n",
        "      'learning_rate': 1e-2,\n",
        "    },\n",
        "    verbose=True, print_every=1000\n",
        ")\n",
        "solver.train()\n",
        "\n",
        "################################################################################\n",
        "#                              END OF YOUR CODE                                #\n",
        "################################################################################"
      ]
    },
    {
      "cell_type": "code",
      "execution_count": null,
      "metadata": {
        "id": "vAxWYSuZNj4B",
        "colab": {
          "base_uri": "https://localhost:8080/"
        },
        "outputId": "3039ec07-a475-456c-e8b7-fbc0cccdf933"
      },
      "outputs": [
        {
          "output_type": "stream",
          "name": "stdout",
          "text": [
            "Validation set accuracy:  0.564\n",
            "Test set accuracy:  0.54\n"
          ]
        }
      ],
      "source": [
        "# Run your best model on the validation and test sets. You should achieve above 62% accuracy on the validation set.\n",
        "y_test_pred = np.argmax(best_model.loss(data['X_test']), axis=1)\n",
        "y_val_pred = np.argmax(best_model.loss(data['X_val']), axis=1)\n",
        "print('Validation set accuracy: ', (y_val_pred == data['y_val']).mean())\n",
        "print('Test set accuracy: ', (y_test_pred == data['y_test']).mean())"
      ]
    },
    {
      "cell_type": "markdown",
      "metadata": {
        "id": "kY4bI3KLNj4B"
      },
      "source": [
        "### Visualize Filters"
      ]
    },
    {
      "cell_type": "code",
      "execution_count": null,
      "metadata": {
        "id": "rh-uaq3HNj4C"
      },
      "outputs": [],
      "source": [
        "# You can visualize the first-layer convolutional filters from the trained network by running the following:\n",
        "from utils.vis_utils import visualize_grid\n",
        "\n",
        "grid = visualize_grid(model.params['W1'].transpose(0, 2, 3, 1))\n",
        "plt.imshow(grid.astype('uint8'))\n",
        "plt.axis('off')\n",
        "plt.gcf().set_size_inches(5, 5)\n",
        "plt.show()"
      ]
    },
    {
      "cell_type": "markdown",
      "metadata": {
        "id": "KGabvpIpNj4C"
      },
      "source": [
        "<font size='4' color='red'>**Task 2.11: report validation accuray for other hyper parameters you have tried (2 points)**"
      ]
    },
    {
      "cell_type": "markdown",
      "metadata": {
        "id": "DyQ5M3srNj4C"
      },
      "source": [
        "1) num_filters=[64,64], filter_sizes=[7,7], weight_scale=1e-2, reg=0.8 ===> Validation Accuracy = 28%\n",
        "\n",
        "2) num_filters=[16,32], filter_sizes=[7,5], weight_scale=5e-2 ===> Validation Accuracy = 47%"
      ]
    },
    {
      "cell_type": "markdown",
      "metadata": {
        "id": "qCcD-D7gNj4C"
      },
      "source": [
        "<font size='4' color='red'>**Task 2.12: train a ConvNet without using batch normalization layers (3 points).**"
      ]
    },
    {
      "cell_type": "markdown",
      "metadata": {
        "id": "aOAlBkB1Nj4C"
      },
      "source": [
        "<font size='4'>Report the best validation accuracy you can get and discuss how it is different from the version with batch normalization layers."
      ]
    },
    {
      "cell_type": "code",
      "execution_count": 54,
      "metadata": {
        "id": "_aC_i_4DNj4D",
        "colab": {
          "base_uri": "https://localhost:8080/"
        },
        "outputId": "89c92c88-0be3-437f-e6b7-67a9029412b2"
      },
      "outputs": [
        {
          "output_type": "stream",
          "name": "stdout",
          "text": [
            "(Iteration 1 / 1470) loss: 13.128484\n",
            "(Epoch 0 / 3) train acc: 0.110000; val_acc: 0.097000\n",
            "(Epoch 1 / 3) train acc: 0.107000; val_acc: 0.105000\n",
            "(Epoch 2 / 3) train acc: 0.123000; val_acc: 0.119000\n",
            "(Iteration 1001 / 1470) loss: 2.300483\n",
            "(Epoch 3 / 3) train acc: 0.093000; val_acc: 0.078000\n"
          ]
        }
      ],
      "source": [
        "best_model = None\n",
        "################################################################################\n",
        "# TODO: Train the best ConvNet that you can on CIFAR-10 with 3 epochs using    #\n",
        "# the sgd_momentum optimizer. Store your best model in the best_model variable.#\n",
        "################################################################################\n",
        "\n",
        "data = get_CIFAR10_data(cifar10_dir)\n",
        "\n",
        "best_model = ConvNet(num_filters=[32,32], filter_sizes=[7,7],\n",
        "          weight_scale=5e-2, use_batch_norm=False)\n",
        "\n",
        "solver = Solver(\n",
        "    best_model, data,\n",
        "    num_epochs=3, batch_size=100,\n",
        "    update_rule=sgd_momentum,\n",
        "    optim_config={\n",
        "      'learning_rate': 1e-2,\n",
        "    },\n",
        "    verbose=True, print_every=1000\n",
        ")\n",
        "solver.train()\n"
      ]
    },
    {
      "cell_type": "markdown",
      "source": [
        "The model without batchnorm layer accuracy is slow and provides and accuracy less than 10%.\n",
        "\n",
        "The same model with batchnorm layer is comparatively faster and gives better results."
      ],
      "metadata": {
        "id": "vj-pCNYWa7dx"
      }
    },
    {
      "cell_type": "markdown",
      "metadata": {
        "id": "pC4SWNtkNj4D"
      },
      "source": [
        "<font size='5' color='red'>**Extra credits: Do something innovative.**\n",
        "    \n",
        "<font size='4'>Finish your implementation separately below. Do not aadd them to the regular tasks. The extra credits accumulated over all three programming assignments will be capped at 5 points (weighted first and then capped)."
      ]
    },
    {
      "cell_type": "code",
      "execution_count": null,
      "metadata": {
        "id": "1ABV3d9kNj4D"
      },
      "outputs": [],
      "source": [
        ""
      ]
    }
  ],
  "metadata": {
    "kernelspec": {
      "display_name": "Python 3 (ipykernel)",
      "language": "python",
      "name": "python3"
    },
    "language_info": {
      "codemirror_mode": {
        "name": "ipython",
        "version": 3
      },
      "file_extension": ".py",
      "mimetype": "text/x-python",
      "name": "python",
      "nbconvert_exporter": "python",
      "pygments_lexer": "ipython3",
      "version": "3.6.13"
    },
    "colab": {
      "name": "mohan.kar.ipynb",
      "provenance": [],
      "collapsed_sections": []
    },
    "accelerator": "GPU"
  },
  "nbformat": 4,
  "nbformat_minor": 0
}